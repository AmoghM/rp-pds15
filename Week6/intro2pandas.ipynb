{
 "metadata": {
  "name": "",
  "signature": "sha256:1222e05b1daf62f2a0cf133c8c5628510e0e50b7db01a8d90e8eb302b5ab5595"
 },
 "nbformat": 3,
 "nbformat_minor": 0,
 "worksheets": [
  {
   "cells": [
    {
     "cell_type": "markdown",
     "metadata": {},
     "source": [
      "<DIV ALIGN=CENTER>\n",
      "\n",
      "# Introduction to Pandas\n",
      "## Professor Robert J. Brunner\n",
      "  \n",
      "</DIV>  \n",
      "-----\n",
      "-----"
     ]
    },
    {
     "cell_type": "markdown",
     "metadata": {},
     "source": [
      "## Introduction\n",
      "\n",
      "One of the early criticisms of many in the data science arena of the\n",
      "Python language was the lack of useful data structures for performing\n",
      "data analysis tasks. This stemmed in part from comparisons between the R\n",
      "language and Python, since R has a built-in _DataFrame_ object that\n",
      "greatly simplified many data analysis tasks. This deficiency was\n",
      "addressed in 2008 by Wes McKinney with the creation of [Pandas][1] (the\n",
      "name was originally an abbreviation of Panel datas). To quote the Pandas\n",
      "documentation:\n",
      "\n",
      ">Python has long been great for data munging and preparation, but less\n",
      ">so for data analysis and modeling. pandas helps fill this gap, enabling\n",
      ">you to carry out your entire data analysis workflow in Python without\n",
      ">having to switch to a more domain specific language like R.\n",
      "\n",
      "Pandas introduces several new data structures like the `Series`,\n",
      "`DataFrame`, and `Panel` that build on top of existing\n",
      "tools like `numpy` to speed-up data analysis tasks. Pandas also provides\n",
      "efficient mechanisms for moving data between in memory representations\n",
      "and different data formats including CSV and text files, JSON files, SQL\n",
      "databases, HDF5 format files, and even Excel spreadsheets. Pandas also\n",
      "provides support for dealing with missing or incomplete data and\n",
      "aggregating or grouping data.\n",
      "\n",
      "-----\n",
      "[1]: http://pandas.pydata.org"
     ]
    },
    {
     "cell_type": "markdown",
     "metadata": {},
     "source": [
      "## Brief introduction to Pandas\n",
      "\n",
      "Before using Pandas, we must first import the Pandas library:\n",
      "\n",
      "    import pandas as pd\n",
      "\n",
      "Second, we simply create and use the appropriate Pandas data structure.\n",
      "The two most important data structures for typical data science tasks\n",
      "are the `Series` and the `DataFrame`:\n",
      "\n",
      "1. `Series`: a one-dimensional labeled array that can hold any data type\n",
      "such as integers, floating-point numbers, strings, or Python objects. A\n",
      "`Series` has both a data column and a label column called the _index_.\n",
      "\n",
      "2. `DataFrame`: a two-dimensional labeled data structure with columns\n",
      "that can be hold different data types, similar to a spreadsheet or\n",
      "relational database table. \n",
      "\n",
      "Pandas also provides a date/time data structure sometimes refereed to as\n",
      "a `TimeSeries` and a three-dimensional data structure known as a\n",
      "`Panel`. \n",
      "\n",
      "### `Series`\n",
      "\n",
      "A `Series` is useful to hold data that should be accesible by using a\n",
      "specific label. You create a `Series` by passing in an appropriate data\n",
      "set along with an optional index:\n",
      "\n",
      "    values = pd.Series(data, index=idx)\n",
      "\n",
      "The index varies depending on the type of data passed in to create the\n",
      "`Series:\n",
      "\n",
      "- if data is a NumPy array, the index should be the same length as the\n",
      "data array. If no index is provided one will be created that enables\n",
      "integer access that mirrors a traditional NumPy array (i.e., zero\n",
      "indexed). \n",
      "\n",
      "- if data is a Python dictionary, `idx` can contain specific labels to\n",
      "indicate which values in the dictionary should be used to create the\n",
      "`Series`. If no index is specified, an index is created from the sorted\n",
      "dictionary keys. \n",
      "\n",
      "- if data is a scalar value, an inde must be supplied. In this case, the\n",
      "scalar value will be repeated to ensure that each label in the index has\n",
      "a value in the `Series`.\n",
      "\n",
      "These different options are demonstrated in the following code cells.\n",
      "\n",
      "-----\n",
      "[df]: http://pandas.pydata.org/pandas-docs/stable/dsintro.html#dataframe"
     ]
    },
    {
     "cell_type": "code",
     "collapsed": false,
     "input": [
      "import pandas as pd\n",
      "import numpy as np\n",
      "\n",
      "# We label the random values\n",
      "s1 = pd.Series(np.random.rand(6), index=['q', 'w', 'e', 'r', 't', 'y'])\n",
      "\n",
      "print(s1)"
     ],
     "language": "python",
     "metadata": {},
     "outputs": [
      {
       "output_type": "stream",
       "stream": "stdout",
       "text": [
        "q    0.164057\n",
        "w    0.173687\n",
        "e    0.542334\n",
        "r    0.077709\n",
        "t    0.953567\n",
        "y    0.564735\n",
        "dtype: float64\n"
       ]
      }
     ],
     "prompt_number": 1
    },
    {
     "cell_type": "code",
     "collapsed": false,
     "input": [
      "d = {'q': 11, 'w': 21, 'e': 31, 'r': 41}\n",
      "\n",
      "# We pick out the q, w, and r keys, but have an undefined y key.\n",
      "s2 = pd.Series(d, index = ['q', 'w', 'r', 'y'])\n",
      "\n",
      "print(s2)"
     ],
     "language": "python",
     "metadata": {},
     "outputs": [
      {
       "output_type": "stream",
       "stream": "stdout",
       "text": [
        "q    11\n",
        "w    21\n",
        "r    41\n",
        "y   NaN\n",
        "dtype: float64\n"
       ]
      }
     ],
     "prompt_number": 2
    },
    {
     "cell_type": "code",
     "collapsed": false,
     "input": [
      "# We create a Series from an integer constant with explicit labels\n",
      "s3 = pd.Series(42, index = ['q', 'w', 'e', 'r', 't', 'y'])\n",
      "\n",
      "print(s3)\n",
      "\n",
      "print('\\nThe \"e\" value is ', s3['e'])"
     ],
     "language": "python",
     "metadata": {},
     "outputs": [
      {
       "output_type": "stream",
       "stream": "stdout",
       "text": [
        "q    42\n",
        "w    42\n",
        "e    42\n",
        "r    42\n",
        "t    42\n",
        "y    42\n",
        "dtype: int64\n",
        "\n",
        "The \"e\" value is  42\n"
       ]
      }
     ],
     "prompt_number": 3
    },
    {
     "cell_type": "code",
     "collapsed": false,
     "input": [
      "# We can slice like NumPy arrays\n",
      "\n",
      "print(s1[:-2])\n",
      "\n",
      "# We can also perform vectorized operations\n",
      "print('\\nSum Series:')\n",
      "print(s1 + s3)\n",
      "print('\\nSeries operations:')\n",
      "print(s2 * 5 - 1.2)"
     ],
     "language": "python",
     "metadata": {},
     "outputs": [
      {
       "output_type": "stream",
       "stream": "stdout",
       "text": [
        "q    0.164057\n",
        "w    0.173687\n",
        "e    0.542334\n",
        "r    0.077709\n",
        "dtype: float64\n",
        "\n",
        "Sum Series:\n",
        "q    42.164057\n",
        "w    42.173687\n",
        "e    42.542334\n",
        "r    42.077709\n",
        "t    42.953567\n",
        "y    42.564735\n",
        "dtype: float64\n",
        "\n",
        "Series operations:\n",
        "q     53.8\n",
        "w    103.8\n",
        "r    203.8\n",
        "y      NaN\n",
        "dtype: float64\n"
       ]
      }
     ],
     "prompt_number": 4
    },
    {
     "cell_type": "markdown",
     "metadata": {},
     "source": [
      "-----\n",
      "\n",
      "### `DataFrame`\n",
      "\n"
     ]
    },
    {
     "cell_type": "code",
     "collapsed": false,
     "input": [
      "# Read data from CSV file, and display subset\n",
      "\n",
      "df = pd.read_csv('data.csv', delimiter='|', index_col='iata')\n",
      "\n",
      "# We can grab the first five rows, and only extract the 'airport' column\n",
      "print(df.head(5)['airport'])"
     ],
     "language": "python",
     "metadata": {},
     "outputs": [
      {
       "output_type": "stream",
       "stream": "stdout",
       "text": [
        "iata\n",
        "00M                 Thigpen \n",
        "00R     Livingston Municipal\n",
        "00V              Meadow Lake\n",
        "01G             Perry-Warsaw\n",
        "01J         Hilliard Airpark\n",
        "Name: airport, dtype: object\n"
       ]
      }
     ],
     "prompt_number": 5
    },
    {
     "cell_type": "code",
     "collapsed": false,
     "input": [
      "# Read data from our JSON file\n",
      "df = pd.read_json('data.json')\n",
      "\n",
      "# Grab the last five rows\n",
      "print(df.tail(5))"
     ],
     "language": "python",
     "metadata": {},
     "outputs": [
      {
       "output_type": "stream",
       "stream": "stdout",
       "text": [
        "        0                          1            2   3    4         5         6\n",
        "3372  ZEF            Elkin Municipal        Elkin  NC  USA  36.28002 -80.78607\n",
        "3373  ZER  Schuylkill Cty/Joe Zerbey   Pottsville  PA  USA  40.70645 -76.37315\n",
        "3374  ZPH      Zephyrhills Municipal  Zephyrhills  FL  USA  28.22806 -82.15592\n",
        "3375  ZUN                 Black Rock         Zuni  NM  USA  35.08323 -108.7918\n",
        "3376  ZZV       Zanesville Municipal   Zanesville  OH  USA  39.94446 -81.89211\n",
        "\n",
        "[5 rows x 7 columns]\n"
       ]
      }
     ],
     "prompt_number": 6
    },
    {
     "cell_type": "markdown",
     "metadata": {},
     "source": []
    },
    {
     "cell_type": "markdown",
     "metadata": {},
     "source": [
      "### Pandas and SQL\n",
      "\n",
      "At this point, you have probably realized that there is a lot of\n",
      "standard code we must write to simply execute some SQL commands. While\n",
      "there are different Python libraries that exist to simplify these steps,\n",
      "we will focus on using the Pandas library, which is a standard library\n",
      "for doing _Data Analysis in Python_.\n",
      "\n",
      "----"
     ]
    },
    {
     "cell_type": "code",
     "collapsed": false,
     "input": [
      "import sqlite3 as sl\n",
      "import pandas as pd"
     ],
     "language": "python",
     "metadata": {},
     "outputs": [],
     "prompt_number": 7
    },
    {
     "cell_type": "markdown",
     "metadata": {},
     "source": [
      "-----\n",
      "\n",
      "Pandas provides built-in support for executing a SQL query and\n",
      "retrieving the result as a DataFrame. This is demonstrated in the next\n",
      "code cell, where we execute a SQL query on the airlines database. We\n",
      "select several columns, and for simplicity we restrict our query result\n",
      "to only ten rows by using the ANSI SQL `LIMIT` clause.\n",
      "\n",
      "The Pandas method to execute a SQL statement is `read_sql`, and mimics\n",
      "in appearance other Panda methods for _reading_ data into a Pandas\n",
      "DataFrame. In this case, the method takes our SQL statement, database\n",
      "connection, and an optional parameter, `index_col` that we can use to\n",
      "specify which column in our result should be treated as an index column.\n",
      "Pandas will supply an auto-incrementing column if no column is explicitly\n",
      "supplied. To save space in the output display, we specify our own column\n",
      "in these examples.\n",
      "\n",
      "\n",
      "-----"
     ]
    },
    {
     "cell_type": "code",
     "collapsed": false,
     "input": [
      "query = \"SELECT code, airport, city, state, latitude, longitude FROM airports LIMIT 10 ;\"\n",
      "\n",
      "database = '/notebooks/rppds/database/rppds'\n",
      "\n",
      "with sl.connect(database) as con:\n",
      "    data = pd.read_sql(query, con, index_col ='code')\n",
      "    \n",
      "    print(data)"
     ],
     "language": "python",
     "metadata": {},
     "outputs": [
      {
       "output_type": "stream",
       "stream": "stdout",
       "text": [
        "                   airport              city  state  latitude longitude\n",
        "code                                                                   \n",
        "iata               airport              city  state       lat      long\n",
        "00M               Thigpen        Bay Springs     MS  31.95376  -89.2345\n",
        "00R   Livingston Municipal        Livingston     TX  30.68586 -95.01793\n",
        "00V            Meadow Lake  Colorado Springs     CO  38.94575 -104.5699\n",
        "01G           Perry-Warsaw             Perry     NY  42.74135 -78.05208\n",
        "01J       Hilliard Airpark          Hilliard     FL  30.68801 -81.90594\n",
        "01M      Tishomingo County           Belmont     MS  34.49167 -88.20111\n",
        "02A            Gragg-Wade            Clanton     AL  32.85049 -86.61145\n",
        "02C                Capitol        Brookfield     WI  43.08751 -88.17787\n",
        "02G      Columbiana County    East Liverpool     OH  40.67331 -80.64141\n",
        "\n",
        "[10 rows x 5 columns]\n"
       ]
      }
     ],
     "prompt_number": 8
    },
    {
     "cell_type": "markdown",
     "metadata": {},
     "source": [
      "-----\n",
      "\n",
      "In the next code cell, we use the column selection feature with a Pandas\n",
      "DataFrame to select only those rows that have airports in the state of\n",
      "Mississippi. We do this by selecting the `state` attribute of the\n",
      "DataFrame, which corresponds to the _state_ column, and applying a\n",
      "Boolean condition.\n",
      "\n",
      "-----"
     ]
    },
    {
     "cell_type": "code",
     "collapsed": false,
     "input": [
      "query = \"SELECT code, airport, city, state, latitude, longitude FROM airports LIMIT 100 ;\"\n",
      "\n",
      "with sl.connect(database) as con:\n",
      "    data = pd.read_sql(query, con, index_col ='code')\n",
      "    \n",
      "    print(data[data.state == 'MS'])"
     ],
     "language": "python",
     "metadata": {},
     "outputs": [
      {
       "output_type": "stream",
       "stream": "stdout",
       "text": [
        "                     airport         city state  latitude longitude\n",
        "code                                                               \n",
        "00M                 Thigpen   Bay Springs    MS  31.95376  -89.2345\n",
        "01M        Tishomingo County      Belmont    MS  34.49167 -88.20111\n",
        "04M           Calhoun County    Pittsboro    MS  33.93011 -89.34285\n",
        "06M         Eupora Municipal       Eupora    MS  33.53457 -89.31257\n",
        "08M    Carthage-Leake County     Carthage    MS  32.76125 -89.53007\n",
        "09M     Charleston Municipal   Charleston    MS   33.9915 -90.07815\n",
        "0M6            Panola County   Batesville    MS  34.36677 -89.90009\n",
        "0R0   Columbia-Marion County     Columbia    MS  31.29701 -89.81283\n",
        "\n",
        "[8 rows x 5 columns]\n"
       ]
      }
     ],
     "prompt_number": 9
    },
    {
     "cell_type": "markdown",
     "metadata": {},
     "source": [
      "-----\n",
      "\n",
      "Pandas also simplifies the insertion of new data into a SQL database.\n",
      "For this, we can simply take an existing Pandas DataFrame and call the\n",
      "`to_sql()` method. This method requires two parameters, the name of the\n",
      "database table, and the database connection. If the table does not\n",
      "exist, a new table will be created to match the DataFrame, including\n",
      "appropriate column names and data types. \n",
      "\n",
      "In the next two code blocks, we first query the airports table, and use\n",
      "Pandas to extract all airports in Illinois. We next insert this data\n",
      "back into our database as a new table called `ILAirports`. The following\n",
      "code block queries this new table and display the results for\n",
      "confirmation.\n",
      "\n",
      "-----"
     ]
    },
    {
     "cell_type": "code",
     "collapsed": false,
     "input": [
      "# Creating table automatically works better if columns are explicitly listed.\n",
      "\n",
      "query = \"SELECT code, airport, city, state, latitude, longitude FROM airports ;\"\n",
      "with sl.connect(database) as con:\n",
      "    data = pd.read_sql(query, con)\n",
      "\n",
      "    data[data.state == 'IL'].to_sql('ILAirports', con)"
     ],
     "language": "python",
     "metadata": {},
     "outputs": [],
     "prompt_number": 10
    },
    {
     "cell_type": "code",
     "collapsed": false,
     "input": [
      "with sl.connect(database) as con:\n",
      "    data = pd.read_sql('SELECT code, city, airport, latitude, longitude FROM ILAirports', \n",
      "                       con, index_col ='code')\n",
      "    \n",
      "    print(data[10:20])"
     ],
     "language": "python",
     "metadata": {},
     "outputs": [
      {
       "output_type": "stream",
       "stream": "stdout",
       "text": [
        "                       city                airport     latitude     longitude\n",
        "code                                                                         \n",
        "3CK       Lake In The Hills      Lake In The Hills  42.20680306  -88.32304028\n",
        "3K6   Troy/Marine/St. Louis    St Louis-Metro East  38.73290861  -89.80656722\n",
        "3LC                 Lincoln           Logan County  40.15847222  -89.33497222\n",
        "3LF              Litchfield   Litchfield Municipal  39.16635306  -89.67489694\n",
        "3MY                  Peoria   Mt. Hawley Auxiliary  40.79525917   -89.6134025\n",
        "9I0                  Havana        Havana Regional    40.221155  -90.02289361\n",
        "AJG               Mt Carmel    Mt Carmel Municipal  38.60654722  -87.72669417\n",
        "ALN         Alton/St. Louis     St. Louis Regional  38.89029083  -90.04604306\n",
        "ARR          Chicago/Aurora       Aurora Municipal  41.77192944  -88.47565917\n",
        "BLV    Belleville/St. Louis  Scott AFB/MidAmerica   38.54517861  -89.83518444\n",
        "\n",
        "[10 rows x 4 columns]\n"
       ]
      }
     ],
     "prompt_number": 11
    },
    {
     "cell_type": "markdown",
     "metadata": {},
     "source": [
      "## Breakout Session: Pandas\n",
      "\n",
      "During this session, you should work .\n",
      "\n",
      "### Intermediate Challenge:\n",
      "\n",
      "\n",
      "Try to complete the following tasks:\n",
      "\n",
      "\n",
      "### Advanced Challenge:\n",
      "\n",
      "First, use Pandas to query the airline database; this will help you get\n",
      "familiar with Pandas.\n",
      "\n",
      "\n",
      "-----"
     ]
    },
    {
     "cell_type": "markdown",
     "metadata": {},
     "source": [
      "### Additional References\n",
      "\n",
      "1. \n",
      "-----\n",
      "\n",
      "[1]: "
     ]
    },
    {
     "cell_type": "markdown",
     "metadata": {},
     "source": [
      "### Return to the [Week 6 Index](index.ipynb).\n",
      "\n",
      "-----"
     ]
    }
   ],
   "metadata": {}
  }
 ]
}