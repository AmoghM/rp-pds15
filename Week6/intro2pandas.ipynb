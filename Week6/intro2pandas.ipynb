{
 "metadata": {
  "name": "",
  "signature": "sha256:de3c3834782db7284e3cd6860c29b33e0889ed7583f3046776f0acf4ae4d7d5b"
 },
 "nbformat": 3,
 "nbformat_minor": 0,
 "worksheets": [
  {
   "cells": [
    {
     "cell_type": "markdown",
     "metadata": {},
     "source": [
      "<DIV ALIGN=CENTER>\n",
      "\n",
      "# Introduction to Pandas\n",
      "## Professor Robert J. Brunner\n",
      "  \n",
      "</DIV>  \n",
      "-----\n",
      "-----"
     ]
    },
    {
     "cell_type": "markdown",
     "metadata": {},
     "source": [
      "## Introduction to Pandas\n",
      "\n",
      "In the \n",
      "\n",
      "-----"
     ]
    },
    {
     "cell_type": "markdown",
     "metadata": {},
     "source": [
      "### Brief introduction to Pandas\n",
      "\n",
      "At this point, you have probably realized that there is a lot of\n",
      "standard code we must write to simply execute some SQL commands. While\n",
      "there are different Python libraries that exist to simplify these steps,\n",
      "we will focus on using the Pandas library, which is a standard library\n",
      "for doing _Data Analysis in Python_. While a full exploration of the\n",
      "Pandas library is beyond the scope of this lesson (don't worry, we will\n",
      "introduce it more fully in Week 6), we can show how database operations\n",
      "can be simplified by using Pandas. Pandas is built on top of NumPy, so\n",
      "some features will look familiar, and like NumPy, Pandas is a rich\n",
      "library with an incredible array of functionality.\n",
      "\n",
      "Before using Pandas, we must first import the Pandas library:\n",
      "\n",
      "    import pandas as pd\n",
      "\n",
      "Second, Pandas introduces several extremely useful new data structures.\n",
      "Of these, the one we will focus on in this lesson is the _DataFrame_,\n",
      "which is similar to the DataFrame construct in the _R_ programming\n",
      "language. This data structure is a two-dimensional array where each\n",
      "column can be a different data type. A Panda DataFrame can be accessed\n",
      "like a standard NumPy array, but we can also explicitly select rows by\n",
      "making constraints on the column values.\n",
      "\n",
      "-----"
     ]
    },
    {
     "cell_type": "code",
     "collapsed": false,
     "input": [
      "import sqlite3 as sl\n",
      "import pandas as pd"
     ],
     "language": "python",
     "metadata": {},
     "outputs": [],
     "prompt_number": 11
    },
    {
     "cell_type": "markdown",
     "metadata": {},
     "source": [
      "-----\n",
      "\n",
      "Pandas provides built-in support for executing a SQL query and\n",
      "retrieving the result as a DataFrame. This is demonstrated in the next\n",
      "code cell, where we execute a SQL query on the airlines database. We\n",
      "select several columns, and for simplicity we restrict our query result\n",
      "to only ten rows by using the ANSI SQL `LIMIT` clause.\n",
      "\n",
      "The Pandas method to execute a SQL statement is `read_sql`, and mimics\n",
      "in appearance other Panda methods for _reading_ data into a Pandas\n",
      "DataFrame. In this case, the method takes our SQL statement, database\n",
      "connection, and an optional parameter, `index_col` that we can use to\n",
      "specify which column in our result should be treated as an index column.\n",
      "Pandas will supply an auto-incrementing column if no column is explicitly\n",
      "supplied. To save space in the output display, we specify our own column\n",
      "in these examples.\n",
      "\n",
      "\n",
      "-----"
     ]
    },
    {
     "cell_type": "code",
     "collapsed": false,
     "input": [
      "query = \"SELECT code, airport, city, state, latitude, longitude FROM airports LIMIT 10 ;\"\n",
      "\n",
      "with sl.connect(database) as con:\n",
      "    data = pd.read_sql(query, con, index_col ='code')\n",
      "    \n",
      "    print(data)"
     ],
     "language": "python",
     "metadata": {},
     "outputs": [
      {
       "output_type": "stream",
       "stream": "stdout",
       "text": [
        "                   airport              city state   latitude   longitude\n",
        "code                                                                     \n",
        "00M               Thigpen        Bay Springs    MS  31.953765  -89.234505\n",
        "00R   Livingston Municipal        Livingston    TX  30.685861  -95.017928\n",
        "00V            Meadow Lake  Colorado Springs    CO  38.945749 -104.569893\n",
        "01G           Perry-Warsaw             Perry    NY  42.741347  -78.052081\n",
        "01J       Hilliard Airpark          Hilliard    FL  30.688012  -81.905944\n",
        "01M      Tishomingo County           Belmont    MS  34.491667  -88.201111\n",
        "02A            Gragg-Wade            Clanton    AL  32.850487  -86.611453\n",
        "02C                Capitol        Brookfield    WI  43.087510  -88.177869\n",
        "02G      Columbiana County    East Liverpool    OH  40.673313  -80.641406\n",
        "03D       Memphis Memorial           Memphis    MO  40.447259  -92.226961\n",
        "\n",
        "[10 rows x 5 columns]\n"
       ]
      }
     ],
     "prompt_number": 12
    },
    {
     "cell_type": "markdown",
     "metadata": {},
     "source": [
      "-----\n",
      "\n",
      "In the next code cell, we use the column selection feature with a Pandas\n",
      "DataFrame to select only those rows that have airports in the state of\n",
      "Mississippi. We do this by selecting the `state` attribute of the\n",
      "DataFrame, which corresponds to the _state_ column, and applying a\n",
      "Boolean condition.\n",
      "\n",
      "-----"
     ]
    },
    {
     "cell_type": "code",
     "collapsed": false,
     "input": [
      "query = \"SELECT code, airport, city, state, latitude, longitude FROM airports LIMIT 100 ;\"\n",
      "\n",
      "with sl.connect(database) as con:\n",
      "    data = pd.read_sql(query, con, index_col ='code')\n",
      "    \n",
      "    print(data[data.state == 'MS'])"
     ],
     "language": "python",
     "metadata": {},
     "outputs": [
      {
       "output_type": "stream",
       "stream": "stdout",
       "text": [
        "                     airport         city state   latitude  longitude\n",
        "code                                                                 \n",
        "00M                 Thigpen   Bay Springs    MS  31.953765 -89.234505\n",
        "01M        Tishomingo County      Belmont    MS  34.491667 -88.201111\n",
        "04M           Calhoun County    Pittsboro    MS  33.930112 -89.342852\n",
        "06M         Eupora Municipal       Eupora    MS  33.534566 -89.312569\n",
        "08M    Carthage-Leake County     Carthage    MS  32.761246 -89.530071\n",
        "09M     Charleston Municipal   Charleston    MS  33.991502 -90.078145\n",
        "0M6            Panola County   Batesville    MS  34.366774 -89.900089\n",
        "0R0   Columbia-Marion County     Columbia    MS  31.297008 -89.812829\n",
        "\n",
        "[8 rows x 5 columns]\n"
       ]
      }
     ],
     "prompt_number": 13
    },
    {
     "cell_type": "markdown",
     "metadata": {},
     "source": [
      "-----\n",
      "\n",
      "Pandas also simplifies the insertion of new data into a SQL database.\n",
      "For this, we can simply take an existing Pandas DataFrame and call the\n",
      "`to_sql()` method. This method requires two parameters, the name of the\n",
      "database table, and the database connection. If the table does not\n",
      "exist, a new table will be created to match the DataFrame, including\n",
      "appropriate column names and data types. \n",
      "\n",
      "In the next two code blocks, we first query the airports table, and use\n",
      "Pandas to extract all airports in Illinois. We next insert this data\n",
      "back into our database as a new table called `ILAirports`. The following\n",
      "code block queries this new table and display the results for\n",
      "confirmation.\n",
      "\n",
      "-----"
     ]
    },
    {
     "cell_type": "code",
     "collapsed": false,
     "input": [
      "# Creating table automatically works better if columns are explicitly listed.\n",
      "\n",
      "query = \"SELECT code, airport, city, state, latitude, longitude FROM airports ;\"\n",
      "with sl.connect(database) as con:\n",
      "    data = pd.read_sql(query, con)\n",
      "\n",
      "    data[data.state == 'IL'].to_sql('ILAirports', con)"
     ],
     "language": "python",
     "metadata": {},
     "outputs": [],
     "prompt_number": 14
    },
    {
     "cell_type": "code",
     "collapsed": false,
     "input": [
      "with sl.connect(database) as con:\n",
      "    data = pd.read_sql('SELECT code, city, airport, latitude, longitude FROM ILAirports', \n",
      "                       con, index_col ='code')\n",
      "    \n",
      "    print(data[10:20])"
     ],
     "language": "python",
     "metadata": {},
     "outputs": [
      {
       "output_type": "stream",
       "stream": "stdout",
       "text": [
        "                       city                airport   latitude  longitude\n",
        "code                                                                    \n",
        "3CK       Lake In The Hills      Lake In The Hills  42.206803 -88.323040\n",
        "3K6   Troy/Marine/St. Louis    St Louis-Metro East  38.732909 -89.806567\n",
        "3LC                 Lincoln           Logan County  40.158472 -89.334972\n",
        "3LF              Litchfield   Litchfield Municipal  39.166353 -89.674897\n",
        "3MY                  Peoria   Mt. Hawley Auxiliary  40.795259 -89.613403\n",
        "9I0                  Havana        Havana Regional  40.221155 -90.022894\n",
        "AJG               Mt Carmel    Mt Carmel Municipal  38.606547 -87.726694\n",
        "ALN         Alton/St. Louis     St. Louis Regional  38.890291 -90.046043\n",
        "ARR          Chicago/Aurora       Aurora Municipal  41.771929 -88.475659\n",
        "BLV    Belleville/St. Louis  Scott AFB/MidAmerica   38.545179 -89.835184\n",
        "\n",
        "[10 rows x 4 columns]\n"
       ]
      }
     ],
     "prompt_number": 15
    },
    {
     "cell_type": "markdown",
     "metadata": {},
     "source": [
      "## Breakout Session: Pandas\n",
      "\n",
      "During this session, you should work .\n",
      "\n",
      "### Intermediate Challenge:\n",
      "\n",
      "\n",
      "Try to complete the following tasks:\n",
      "\n",
      "\n",
      "### Advanced Challenge:\n",
      "\n",
      "First, use Pandas to query the airline database; this will help you get\n",
      "familiar with Pandas.\n",
      "\n",
      "\n",
      "-----"
     ]
    },
    {
     "cell_type": "markdown",
     "metadata": {},
     "source": [
      "### Additional References\n",
      "\n",
      "1. \n",
      "-----\n",
      "\n",
      "[1]: "
     ]
    },
    {
     "cell_type": "markdown",
     "metadata": {},
     "source": [
      "### Return to the [Week 6 Index](index.ipynb).\n",
      "\n",
      "-----"
     ]
    }
   ],
   "metadata": {}
  }
 ]
}