{
 "metadata": {
  "name": "",
  "signature": "sha256:eef67568bed6481d0b69706f15d5f13d4a3fb734e256e79d97a920253f6b4e81"
 },
 "nbformat": 3,
 "nbformat_minor": 0,
 "worksheets": [
  {
   "cells": [
    {
     "cell_type": "markdown",
     "metadata": {},
     "source": [
      "<DIV ALIGN=CENTER>\n",
      "\n",
      "# SQLite and Python\n",
      "## Professor Robert J. Brunner\n",
      "  \n",
      "</DIV>  \n",
      "-----\n",
      "-----"
     ]
    },
    {
     "cell_type": "markdown",
     "metadata": {},
     "source": [
      "## Introduction to using SQLite with Python?\n",
      "\n",
      "Already saw some of this. But now we cover it all and introduce some basic concepts.\n",
      "\n",
      "connection object\n",
      "\n",
      "cursor\n",
      "\n",
      "\n",
      "query execution\n",
      "\n",
      "fetching results\n",
      "\n",
      "\n",
      "processing\n",
      "\n",
      "Data types\n",
      "\n",
      "\n",
      "Others?\n",
      "\n",
      "-----\n",
      "\n",
      "https://docs.python.org/3/library/sqlite3.html#sqlite3-types\n",
      "\n",
      "http://zetcode.com/db/sqlitepythontutorial/"
     ]
    },
    {
     "cell_type": "code",
     "collapsed": false,
     "input": [
      "import sqlite3 as sl\n",
      "\n",
      "database = '/Users/rb/rppds/database/rppds'\n",
      "\n",
      "query = \"SELECT COUNT(*), tailNumber FROM flights GROUP BY tailNumber LIMIT 10\"\n",
      "\n",
      "with sl.connect(database) as con:\n",
      "    \n",
      "    cur = con.cursor()    \n",
      "    \n",
      "    for row in cur.execute(query):\n",
      "        print(row)"
     ],
     "language": "python",
     "metadata": {},
     "outputs": [
      {
       "output_type": "stream",
       "stream": "stdout",
       "text": [
        "(327, '-N037M')\n",
        "(1170, '-N047M')\n",
        "(1380, '-N107D')\n",
        "(1376, '-N108D')\n",
        "(1405, '-N109D')\n",
        "(1387, '-N110D')\n",
        "(1385, '-N110H')\n",
        "(1485, '-N111D')\n",
        "(1404, '-N112D')\n",
        "(1424, '-N114D')\n"
       ]
      }
     ],
     "prompt_number": 32
    },
    {
     "cell_type": "markdown",
     "metadata": {},
     "source": [
      "-----\n",
      "\n",
      "We can also unpack the row into Python variables directly for use in a program as demonstrated below.\n",
      "\n",
      "Named unpack though\n",
      "\n",
      "One issue in the previous example code was that we ass\n",
      "\n",
      "-----"
     ]
    },
    {
     "cell_type": "code",
     "collapsed": false,
     "input": [
      "with sl.connect(database) as con:\n",
      "    \n",
      "    total = 0\n",
      "    \n",
      "    cur = con.cursor()    \n",
      "    \n",
      "    for row in cur.execute(query):\n",
      "        count, number = row\n",
      "        print(\"Flight# {} flew {} times in 2001\".format(number, count))\n",
      "\n",
      "        total += count\n",
      "        \n",
      "    print(\"\\nWe found {} total flights for the selected period.\".format(total))"
     ],
     "language": "python",
     "metadata": {},
     "outputs": [
      {
       "output_type": "stream",
       "stream": "stdout",
       "text": [
        "Flight# -N037M flew 327 times in 2001\n",
        "Flight# -N047M flew 1170 times in 2001\n",
        "Flight# -N107D flew 1380 times in 2001\n",
        "Flight# -N108D flew 1376 times in 2001\n",
        "Flight# -N109D flew 1405 times in 2001\n",
        "Flight# -N110D flew 1387 times in 2001\n",
        "Flight# -N110H flew 1385 times in 2001\n",
        "Flight# -N111D flew 1485 times in 2001\n",
        "Flight# -N112D flew 1404 times in 2001\n",
        "Flight# -N114D flew 1424 times in 2001\n",
        "\n",
        "We found 12743 total flights for the selected period.\n"
       ]
      }
     ],
     "prompt_number": 12
    },
    {
     "cell_type": "markdown",
     "metadata": {},
     "source": [
      "-----\n"
     ]
    },
    {
     "cell_type": "code",
     "collapsed": false,
     "input": [
      "# INSERT EXample. Write ol data into new table\n"
     ],
     "language": "python",
     "metadata": {},
     "outputs": [],
     "prompt_number": 22
    },
    {
     "cell_type": "code",
     "collapsed": false,
     "input": [
      "# Drop table # Crerate Table example.\n"
     ],
     "language": "python",
     "metadata": {},
     "outputs": [],
     "prompt_number": 23
    },
    {
     "cell_type": "code",
     "collapsed": false,
     "input": [
      "# Update table eample\n"
     ],
     "language": "python",
     "metadata": {},
     "outputs": [],
     "prompt_number": 24
    },
    {
     "cell_type": "code",
     "collapsed": false,
     "input": [
      "import sqlite3 as sl\n",
      "\n",
      "fout = open('airports.txt', 'w')\n",
      "\n",
      "with sl.connect(database) as con:\n",
      "    \n",
      "    cur = con.cursor()    \n",
      "    \n",
      "    for row in cur.execute('SELECT * FROM airports LIMIT 100'):\n",
      "        print(\"Airport code {0} corresponds to {1}, {2}.\".format(row[0], row[2], row[3]), \n",
      "              file=fout)\n",
      "\n",
      "fout.close()"
     ],
     "language": "python",
     "metadata": {},
     "outputs": [],
     "prompt_number": 24
    },
    {
     "cell_type": "markdown",
     "metadata": {},
     "source": [
      "### Is Pandas worth learning?\n",
      "\n",
      "Despite the discussion in the previous section, you might be curious if\n",
      "the benefits of learning Pandas are worth the effort of learning to\n",
      "effectively use a new Python data structure, especially one that is not\n",
      "part of the standard Python distribution. In the end, you will have to\n",
      "make this decision, but there are several definite benefits to using\n",
      "NumPy:\n",
      "\n",
      "1. \n",
      "\n",
      "Pandas is a very powerful library, with a rich and detailed [user guide][1].\n",
      "Every time I look through the documentation, I learn new tricks. The\n",
      "time you spend learning to use this library properly will be amply\n",
      "rewarded. In the rest of this IPython notebook we will introduce many of\n",
      "the basic Pandas features, but to fully master this library you will need\n",
      "to spend time reading the documentation and trying out the full\n",
      "capabilities of the library.\n",
      "\n",
      "\n",
      "parse Dates\n",
      "index column\n",
      "limit columns\n",
      "\n",
      "from pandas.io import sql\n",
      "sql.execute('SELECT * FROM table_name', engine)\n",
      "sql.execute('INSERT INTO table_name VALUES(?, ?, ?)', engine, params=[('id', 1, 12.2, True)])\n",
      " \n",
      " \n",
      "-----\n",
      "\n",
      "[1]: http://docs.scipy.org/doc/numpy/user/"
     ]
    },
    {
     "cell_type": "code",
     "collapsed": false,
     "input": [
      "import sqlite3 as sl\n",
      "import pandas as pd"
     ],
     "language": "python",
     "metadata": {},
     "outputs": [],
     "prompt_number": 33
    },
    {
     "cell_type": "code",
     "collapsed": false,
     "input": [
      "with sl.connect(database) as con:\n",
      "    data = pd.read_sql(\"SELECT * FROM airports LIMIT 10\", con)\n",
      "    \n",
      "    print(data)"
     ],
     "language": "python",
     "metadata": {},
     "outputs": [
      {
       "output_type": "stream",
       "stream": "stdout",
       "text": [
        "   code               airport              city  state  country  latitude  \\\n",
        "0  iata               airport              city  state  country       lat   \n",
        "1   00M              Thigpen        Bay Springs     MS      USA  31.95376   \n",
        "2   00R  Livingston Municipal        Livingston     TX      USA  30.68586   \n",
        "3   00V           Meadow Lake  Colorado Springs     CO      USA  38.94575   \n",
        "4   01G          Perry-Warsaw             Perry     NY      USA  42.74135   \n",
        "5   01J      Hilliard Airpark          Hilliard     FL      USA  30.68801   \n",
        "6   01M     Tishomingo County           Belmont     MS      USA  34.49167   \n",
        "7   02A           Gragg-Wade            Clanton     AL      USA  32.85049   \n",
        "8   02C               Capitol        Brookfield     WI      USA  43.08751   \n",
        "9   02G     Columbiana County    East Liverpool     OH      USA  40.67331   \n",
        "\n",
        "  longitude  \n",
        "0      long  \n",
        "1  -89.2345  \n",
        "2 -95.01793  \n",
        "3 -104.5699  \n",
        "4 -78.05208  \n",
        "5 -81.90594  \n",
        "6 -88.20111  \n",
        "7 -86.61145  \n",
        "8 -88.17787  \n",
        "9 -80.64141  \n"
       ]
      }
     ],
     "prompt_number": 39
    },
    {
     "cell_type": "code",
     "collapsed": false,
     "input": [
      "with sl.connect(database) as con:\n",
      "    data = pd.read_sql('SELECT * FROM airports LIMIT 100', con)\n",
      "    \n",
      "    print(data[data.state == 'MS'])"
     ],
     "language": "python",
     "metadata": {},
     "outputs": [
      {
       "output_type": "stream",
       "stream": "stdout",
       "text": [
        "   code                 airport         city state country  latitude longitude\n",
        "1   00M                Thigpen   Bay Springs    MS     USA  31.95376  -89.2345\n",
        "6   01M       Tishomingo County      Belmont    MS     USA  34.49167 -88.20111\n",
        "11  04M          Calhoun County    Pittsboro    MS     USA  33.93011 -89.34285\n",
        "19  06M        Eupora Municipal       Eupora    MS     USA  33.53457 -89.31257\n",
        "29  08M   Carthage-Leake County     Carthage    MS     USA  32.76125 -89.53007\n",
        "33  09M    Charleston Municipal   Charleston    MS     USA   33.9915 -90.07815\n",
        "72  0M6           Panola County   Batesville    MS     USA  34.36677 -89.90009\n",
        "79  0R0  Columbia-Marion County     Columbia    MS     USA  31.29701 -89.81283\n"
       ]
      }
     ],
     "prompt_number": 40
    },
    {
     "cell_type": "code",
     "collapsed": false,
     "input": [
      "# Creating table automatically works better if columns are explicitly listed.\n",
      "\n",
      "with sl.connect(database) as con:\n",
      "    data = pd.read_sql('SELECT code, airport, city, state FROM airports', con)\n",
      "    \n",
      "    data[data.state == 'IL'].to_sql('ILAirports', con)"
     ],
     "language": "python",
     "metadata": {},
     "outputs": [],
     "prompt_number": 56
    },
    {
     "cell_type": "code",
     "collapsed": false,
     "input": [
      "with sl.connect(database) as con:\n",
      "    data = pd.read_sql('SELECT code, airport, city FROM ILAirports', con, index_col ='code')\n",
      "    \n",
      "    print(data[5:15])"
     ],
     "language": "python",
     "metadata": {},
     "outputs": [
      {
       "output_type": "stream",
       "stream": "stdout",
       "text": [
        "                        airport                   city\n",
        "code                                                  \n",
        "1C5                        Clow     Chicago/Plainfield\n",
        "1H2   Effingham County Memorial              Effingham\n",
        "1H8             Casey Municipal                  Casey\n",
        "2H0               Shelby County            Shelbyville\n",
        "2I5                     Chanute                Rantoul\n",
        "3CK           Lake In The Hills      Lake In The Hills\n",
        "3K6         St Louis-Metro East  Troy/Marine/St. Louis\n",
        "3LC                Logan County                Lincoln\n",
        "3LF        Litchfield Municipal             Litchfield\n",
        "3MY        Mt. Hawley Auxiliary                 Peoria\n"
       ]
      }
     ],
     "prompt_number": 72
    },
    {
     "cell_type": "code",
     "collapsed": false,
     "input": [],
     "language": "python",
     "metadata": {},
     "outputs": []
    }
   ],
   "metadata": {}
  }
 ]
}