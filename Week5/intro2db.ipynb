{
 "metadata": {
  "name": "",
  "signature": "sha256:46541a0c8db95fa008cea8bb55ab6e11f56e8d5fdd59d4ae7532cff088a4b8ae"
 },
 "nbformat": 3,
 "nbformat_minor": 0,
 "worksheets": [
  {
   "cells": [
    {
     "cell_type": "markdown",
     "metadata": {},
     "source": [
      "<DIV ALIGN=CENTER>\n",
      "\n",
      "# Introduction to Data Persistence\n",
      "## Professor Robert J. Brunner\n",
      "  \n",
      "</DIV>  \n",
      "-----\n",
      "-----"
     ]
    },
    {
     "cell_type": "markdown",
     "metadata": {},
     "source": [
      "## Introduction to Data Perssitence with Python?\n",
      "\n",
      "Text.\n",
      "\n",
      "What are ways to do this.\n",
      "\n",
      "pickle?\n",
      "file/ I/O\n",
      "others?\n",
      "\n",
      "DBMS\n",
      "https://en.wikipedia.org/wiki/Relational_database\n",
      "\n",
      "NoSQL\n",
      "\n",
      "https://en.wikipedia.org/wiki/NoSQL\n",
      "\n",
      "http://api.mongodb.org/python/current/tutorial.html\n",
      "\n",
      "http://zetcode.com/db/sqlite/\n",
      "\n",
      "\n",
      "-----"
     ]
    },
    {
     "cell_type": "heading",
     "level": 2,
     "metadata": {},
     "source": [
      "A brief digression on database systems"
     ]
    },
    {
     "cell_type": "markdown",
     "metadata": {},
     "source": [
      "Whether you realize it or not, as you surf the Internet you're\n",
      "interacting with a variety of database-backed Web applications. This\n",
      "nomenclature may be unfamiliar, but it simply means that a Web site you\n",
      "visit is dynamically created using data saved in a database. To\n",
      "demonstrate, consider the following types of Web sites that you may\n",
      "visit:\n",
      "\n",
      "- An information portal, like the XXXXX\n",
      "- A newspaper Web site to catch up on the local news or sports\n",
      "- A financial Web site, like that of a bank or investment institution, to monitor your financial portfolio\n",
      "- A map Web site to find driving directions\n",
      "- A search engine where you can identify interesting Web sites for more detailed information on a subject\n",
      "\n",
      "Each of these examples uses databases to store, locate, and retrieve\n",
      "information dynamically. In each of these applications, the Web site\n",
      "collects necessary information from the user (such as a street address),\n",
      "queries the application database, and collects the data that has been\n",
      "requested into a suitable visual result.\n",
      "\n",
      "Many of these database systems are large and complex-imagine holding\n",
      "all the map information needed to provide accurate driving directions\n",
      "with pictures! Clearly, storing data and making it available to\n",
      "applications is a big task, one that has been addressed by a number of\n",
      "vendors, including IBM with IBM DB2\u00ae and Microsoft\u00ae with Microsoft SQL\n",
      "Server. These commercial database systems provide full, enterprise-class\n",
      "capabilities. As a result, they can hold enormous quantities of data,\n",
      "concurrently interact with a large number of users, and scale across\n",
      "several large computational systems."
     ]
    },
    {
     "cell_type": "markdown",
     "metadata": {},
     "source": [
      "## DO we show information portal sites? Others examples?\n"
     ]
    },
    {
     "cell_type": "markdown",
     "metadata": {},
     "source": [
      "## Database roles\n",
      "\n",
      "As you might expect, working with these systems isn't trivial, and they\n",
      "can be expensive to operate. Historically, the tasks involved in working\n",
      "with these databases have been divided into three categories. Although\n",
      "the roles sometimes overlap, their individual responsibilities are easy\n",
      "to comprehend:\n",
      "\n",
      "Database administrator (DBA)\n",
      "\n",
      ": Responsible for the overall operation of the database system, which\n",
      "includes the selection and layout of the underlying hardware, the\n",
      "installation and optimization of the database server (especially given\n",
      "the hardware being used), and the day-to-day operations of the database\n",
      "server, such as data backup and recovery.\n",
      "\n",
      "Database developer\n",
      "\n",
      ": Responsible for the actual databases in operation, including designing\n",
      "databases, schemas, tables, table relationships, and indexes as well as\n",
      "optimizing queries.\n",
      "\n",
      "Database application developer\n",
      ": Responsible for integrating application code with the underlying\n",
      "database by using database application programming interfaces (APIs)\n",
      "like Java Database Connectivity (JDBC) or Open Database Connectivity\n",
      "(ODBC) to store and retrieve data as necessary.\n",
      "\n",
      "If the previous discussion leaves you feeling intimidated, that's OK,\n",
      "working with databases has historically been difficult. To understand\n",
      "why, let's examine a specific example in more detail: online banking.\n",
      "When you connect to your bank's Web site, you provide your credentials\n",
      "(most likely a username and password) and thereby gain access to your\n",
      "financial accounts. You can view your data, pay bills, and transfer\n",
      "funds. The database your bank uses must quickly locate the relevant\n",
      "information, safely manage the transactions, securely interact with\n",
      "users, and *most important* not lose any data! And the bank must do\n",
      "this for a large number of users simultaneously.\n",
      "\n",
      "But not all applications are this demanding, especially when you're\n",
      "starting out and trying to learn the basic relational database concepts.\n",
      "If you're just learning to work with databases, or if you want to\n",
      "quickly prototype a database application, most commercial database\n",
      "systems can be cumbersome. Fortunately, there is a free, yet powerful\n",
      "solution provided bythe SQLLite database. By using SQLite, you can learn\n",
      "to work with a relational database by using SQL as well as the Python\n",
      "programming language. If you later find your application needs require a\n",
      "more powerful database system, you can easily migrate your efforts.\n",
      "\n",
      "-----"
     ]
    },
    {
     "cell_type": "markdown",
     "metadata": {},
     "source": [
      "### What is SQLite?\n",
      "\n",
      "https://www.sqlite.org/different.html\n",
      "\n",
      "transactions\n",
      "commit/rollback\n",
      "\n",
      "The Apache Derby project is aimed at building an open source database written entirely in the Java programming language that's easy to use but suitable for a majority of applications. As you can imagine, developing a database isn't simple, and the Apache Derby database is no exception (because it's open source software, you can look for yourself). But the Derby project didn't start from scratch. Back in 1996, a new company called Cloudscape, Inc. was founded with the goal of building a database server written in the Java language. The company's first release came a year later, and eventually the product's name was changed to Cloudscape. In 1999, Cloudscape, Inc. was purchased by Informix Software, Inc., a large database vendor. Informix Software was purchased by IBM in 2001, and the IBM Cloudscape\u2122 database system was used as an embedded database engine in a number of IBM's products. In April 2004, IBM donated the Cloudscape database software to the Apache Software Foundation, and the Apache Derby project was born.\n",
      "\n",
      "At the time, the Cloudscape database was approximately half a million lines of Java code, which took some time to properly convert to the Apache Derby project. After an incubation period, Derby was officially released in July 2005. So while it may seem like the new kid on the block, Derby comes with nearly ten years of development behind it.\n",
      "IBM continues to manage the Cloudscape database, which is built from the Apache Derby source code. IBM offers the Cloudscape database as a free download, and also offers fee-based consulting services for clients who want added peace of mind. In addition, Sun Microsystems has announced that it will include a patched version of Apache Derby as its Java DB product. This strong commitment from IBM and Sun emphasizes the bright future of the Apache Derby database. The Derby database also conforms to a number of database standards, such as SQL-92 and JDBC, Version 3.0; thus an application that is initially developed using the Derby database system can be easily ported to another database system, such as IBM DB2 Universal Database\u2122.\n",
      "\n"
     ]
    },
    {
     "cell_type": "markdown",
     "metadata": {},
     "source": [
      "### Downloading Apache Derby\n",
      "To appreciate the simplicity of working with Apache Derby, the best technique is to jump in and try it. The rest of this section provides general instructions for downloading and verifying your version of Apache Derby (see Resources for a link to the official Apache Derby Web site for instructions specific to your operating system). These instructions assume you have a suitable Java Runtime Environment (JRE) successfully installed. Any JRE version higher than 1.3 should be sufficient, but this article series uses Java 1.4.2 or higher.\n",
      "With those prerequisites out of the way, the first step is to download Apache Derby. As shown in Figure 3, you can download three different versions: source, library, and binary. The source version is just that: the source code. To use this version, you must compile the source code and build your own .jar file. The library version includes only the necessary .jar file for the Derby database. The binary version includes the .jar file and the Derby documentation.\n",
      "For simplicity's sake, download the binary version. Be sure to verify the integrity of your download; this includes verifying the PGP (Pretty Good Privacy) signature, which guarantees that you downloaded the official version, and verifying the MD5 (Message-Digest algorithm 5) signature, which guarantees that your download files weren't corrupted.\n",
      "\n",
      "### Installing Apache Derby\n",
      "\n",
      "After you've successfully downloaded and verified the integrity of the archive containing the Derby database files, the installation is simple (although mildly platform dependent):\n",
      "Choose a suitable location, such as C:\\Apache on a Windows system or /opt/Apache on a UNIX-based system.\n",
      "\n",
      "Open a terminal window (or a command prompt on Windows), change to this new directory, and expand the archive containing the Derby database. Doing so creates a new directory named with the version of the Derby database you installed, for example, db-derby-10.1.2.1-bin.\n",
      "Add the Derby .jar file to your CLASSPATH environment variable. If you're comfortable working at the command prompt, you can do this directly by adding derby.jar, which is located in the db-derby-10.1.2.1-bin/lib subdirectory, to the CLASSPATH variable. Alternatively, you can run the setEmbeddedCP script provided in the db-derby-10.1.2.1-bin\\frameworks\\embedded\\bin subdirectory. Before running this script, you should either set the DERBY_INSTALL environment variable or modify the script so that DERBY_INSTALL points to the directory in which you installed the Derby database.\n",
      "Verify your installation by using the sysinfo tool, as shown in Listing 1.\n",
      "\n",
      "\n",
      "At this point, you have a working database system, which you can run either as a stand-alone network server or as an embedded database within your own application. Future column installments will show you how to run Derby in both models and provide additional database insights.\n",
      "\n",
      "### Using Apache Derby\n",
      "\n",
      "Working with a database system doesn't have to be difficult. By using Apache Derby, you can quickly begin working with a full-featured database system. And because Apache Derby is a standards-compliant database, applications developed using it can be easily migrated to a more powerful database system as the situation warrants."
     ]
    },
    {
     "cell_type": "code",
     "collapsed": false,
     "input": [
      "!sqlite3 -help"
     ],
     "language": "python",
     "metadata": {},
     "outputs": [
      {
       "output_type": "stream",
       "stream": "stdout",
       "text": [
        "Usage: sqlite3 [OPTIONS] FILENAME [SQL]\r\n",
        "FILENAME is the name of an SQLite database. A new database is created\r\n",
        "if the file does not previously exist.\r\n",
        "OPTIONS include:\r\n",
        "   -bail                stop after hitting an error\r\n",
        "   -batch               force batch I/O\r\n",
        "   -column              set output mode to 'column'\r\n",
        "   -cmd COMMAND         run \"COMMAND\" before reading stdin\r\n",
        "   -csv                 set output mode to 'csv'\r\n",
        "   -echo                print commands before execution\r\n",
        "   -init FILENAME       read/process named file\r\n",
        "   -[no]header          turn headers on or off\r\n",
        "   -help                show this message\r\n",
        "   -html                set output mode to HTML\r\n",
        "   -interactive         force interactive I/O\r\n",
        "   -line                set output mode to 'line'\r\n",
        "   -list                set output mode to 'list'\r\n",
        "   -mmap N              default mmap size set to N\r\n",
        "   -nullvalue TEXT      set text string for NULL values. Default ''\r\n",
        "   -separator SEP       set output field separator. Default: '|'\r\n",
        "   -stats               print memory stats before each finalize\r\n",
        "   -version             show SQLite version\r\n",
        "   -vfs NAME            use NAME as the default VFS\r\n"
       ]
      }
     ],
     "prompt_number": 5
    },
    {
     "cell_type": "code",
     "collapsed": false,
     "input": [
      "Working with sqllite\n",
      "\n",
      "start up in docker container\n",
      "creates database\n",
      "\n",
      "show version etc.\n",
      "\n",
      "http://zetcode.com/db/sqlitepythontutorial/\n",
      "    \n",
      "    Maybe a simple Python code that connects to database?\n",
      "    "
     ],
     "language": "python",
     "metadata": {},
     "outputs": []
    },
    {
     "cell_type": "code",
     "collapsed": false,
     "input": [
      "import sqlite3 as sl\n",
      "\n",
      "with sl.connect('test.db') as con:\n",
      "    \n",
      "    cur = con.cursor()    \n",
      "    cur.execute('SELECT SQLITE_VERSION()')\n",
      "    \n",
      "    data = cur.fetchone()\n",
      "    \n",
      "    print(\"SQLite version: {}\".format(data[0]))"
     ],
     "language": "python",
     "metadata": {},
     "outputs": [
      {
       "output_type": "stream",
       "stream": "stdout",
       "text": [
        "SQLite version: 3.8.4.1\n"
       ]
      }
     ],
     "prompt_number": 4
    },
    {
     "cell_type": "markdown",
     "metadata": {},
     "source": [
      "### Introduction to relational database systems\n",
      "\n",
      "You can begin developing database applications quickly, but you can spend a lifetime mastering them. Fortunately, Apache Derby is a lightweight database, and you won't need to devote your life to becoming proficient. You'll be able to start working with it after following the steps in this article.\n",
      "\n",
      "But the goal of this article series isn't just to get you started; it's to help you master working with Apache Derby. First, you should get acquainted with the ACID test, which provides a succinct encapsulation of the basic tenets of a relational database."
     ]
    },
    {
     "cell_type": "markdown",
     "metadata": {},
     "source": [
      "### The ACID test\n",
      "\n",
      "Diamonds are obviously a valuable commodity -- so valuable that counterfeits are a serious concern. One simple and (at least, in the movies) popular test to determine whether a diamond is real is to run it across a piece of glass. Because diamonds are one of the hardest materials known, a real diamond easily cuts the glass surface; a fake, especially if it's made of glass itself, won't.\n",
      "To a software developer, databases are equally valuable. If you use a database, you want to be sure it will safely store your data and let you easily retrieve the data later. You also want your database to allow multiple programs (or people) to work with the database without interfering with each other. To demonstrate, imagine you own a bank. The database for your bank must do the following, among other things:\n",
      "- Safely store the appropriate data\n",
      "- Quickly retrieve the appropriate data\n",
      "- Support multiple, concurrent user sessions\n",
      "\n",
      "These tasks can be collectively referred to as the ACID test; ACID is an acronym for Atomicity, Consistency, Isolation, and Durability.\n",
      "\n",
      "Atomicity means that operations with the database can be grouped together and treated as a single unit.\n",
      "\n",
      "Consistency guarantees that either all the operations in this single unit (or transaction) are performed successfully, or none of them is performed. In other words, a database can't be in an unfinished state. To understand why these characteristics are important, think about a bank transaction during which money is transferred from a savings account into a checking account. If the transfer process fails after subtracting the money from your savings account and before it was added to your checking account, you would become poorer, and the bank would have an angry (ex)customer! Atomicity enables the two operations -- the subtraction from the savings account and the addition to the checking account -- to be treated as a single transaction. Consistency guarantees that both operations in the transaction either succeed or fail. That way, your money isn't lost.\n",
      "\n",
      "Isolation means that independent sets of database transactions are performed in such a way that they don't conflict with each other. Continuing the bank analogy, consider two customers who transfer funds between accounts at the same time. The database must track both transfers separately; otherwise, the funds could go into the wrong accounts, and the bank might be left with two angry (ex)customers.\n",
      "\n",
      "Durability guarantees that the database is safe against unexpected terminations. It may be a minor inconvenience if your television or computer won't work when the power goes out, but the same can't be said for a database. If the bank's computers lose power when transferring your funds, you won't be a happy customer if the transaction is lost. Durability guarantees that if the database terminates abnormally during a funds transfer, then when the database is brought back up, it will be able to recover the transaction and continue with normal operations.\n",
      "\n",
      "Passing the ACID test is nontrivial, and many simple databases fall short. For critical e-business or Web-based applications, passing the ACID test is a must. This is one of the reasons so many companies and individuals utilize enterprise-level database systems, such as IBM DB2\u00ae Universal Database, Oracle 10g, or Microsoft\u00ae SQL Server. These databases are fully compliant with the ACID test. Compared to these database systems, the Apache Derby database may seem like the forgotten stepchild. However, Apache Derby is fully compliant with the ACID test, and you can use it with confidence to develop Web-based database applications. In addition, if you begin using Apache Derby, and your application (or business) grows, you can migrate your database application to an enterprise-class database system like DB2 with minimal difficulty."
     ]
    },
    {
     "cell_type": "markdown",
     "metadata": {},
     "source": [
      "### Create a database \n",
      "\n",
      "Before you can use a database, you have to create one. \n",
      "\n",
      "\n"
     ]
    },
    {
     "cell_type": "markdown",
     "metadata": {},
     "source": [
      "sqlite3 tool options\n",
      "\n",
      "headers on or off\n",
      "echo command\n",
      "\n",
      "headers on or off\n",
      "change separator\n",
      "\n",
      "dump schema\n",
      "width to control column widths.show to see paramters\n",
      ".schema\n",
      "\n",
      ".prompt\n",
      "\n",
      ".output to save output of the dump command.\n",
      "\n",
      ".read to read in a ssql command files\n",
      "\n",
      "http://zetcode.com/db/sqlite/tool/\n",
      "\n",
      "So\n",
      "\n",
      "1) Create a table for the airline data (but only load first ten rows).\n",
      " then use this to demonstrate the sqlite tool. Can use all three tables, just mnot fully populated.\n",
      " \n",
      " Full database with them in for later.\n",
      "\n",
      "SQL demonstrate \n",
      "\n",
      "sqlite supports views and triggers\n"
     ]
    },
    {
     "cell_type": "markdown",
     "metadata": {},
     "source": [
      "-----\n",
      "## Breakout Session: Working with \n",
      "\n",
      "During this session, you should learn to work with \n",
      "\n",
      "### Intermediate Challenge:\n",
      "\n",
      "Do\n",
      "\n",
      "### Advanced Challenge:\n",
      "\n",
      "Try \n",
      "\n",
      "-----"
     ]
    },
    {
     "cell_type": "markdown",
     "metadata": {},
     "source": [
      "### Additional References\n",
      "\n",
      "1. [Text][1]\n",
      "2. [Other Text][2]\n",
      "-----\n",
      "\n",
      "[1]: http://www.example.com\n",
      "[2]: http://www.example.com"
     ]
    },
    {
     "cell_type": "markdown",
     "metadata": {},
     "source": [
      "### Return to the [Week 5 Index](index.ipynb).\n",
      "\n",
      "-----"
     ]
    }
   ],
   "metadata": {}
  }
 ]
}