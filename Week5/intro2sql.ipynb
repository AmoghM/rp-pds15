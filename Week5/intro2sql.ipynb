{
 "metadata": {
  "name": "",
  "signature": "sha256:5286ee307312c2b8e206a0bda11e0cd62ce7366feafa9a0bc620dc21a950d770"
 },
 "nbformat": 3,
 "nbformat_minor": 0,
 "worksheets": [
  {
   "cells": [
    {
     "cell_type": "markdown",
     "metadata": {},
     "source": [
      "<DIV ALIGN=CENTER>\n",
      "\n",
      "# Introduction to SQL\n",
      "## Professor Robert J. Brunner\n",
      "  \n",
      "</DIV>  \n",
      "-----\n",
      "-----"
     ]
    },
    {
     "cell_type": "markdown",
     "metadata": {},
     "source": [
      "## Introduction \n",
      "\n",
      "In this lesson, we \n",
      "\n",
      "http://www.w3schools.com/SQL/\n",
      "\n",
      "\n",
      "\n",
      "-----"
     ]
    },
    {
     "cell_type": "markdown",
     "metadata": {},
     "source": [
      "### Work with a relational database: Structured Query Language\n",
      "\n",
      "\n",
      "Database systems can be complex pieces of software, especially when they\n",
      "scale to support enterprise-level applications. As a result, you may\n",
      "expect that every database has its own application programming interface\n",
      "(API) and that these APIs may be different from one system to the next.\n",
      "When relational databases were first developed, this was the case; but,\n",
      "fortunately, a number of vendors agreed to develop a standard language\n",
      "for accessing and manipulating relational databases. This language is\n",
      "officially called Structured Query Language (or SQL, pronounced\n",
      "sea-quill). Several official standard versions have been produced,\n",
      "including one in 1992 that is referred to as SQL-92, and one in 1999\n",
      "that is referred to as SQL-99. The Apache Derby database provides a\n",
      "nearly complete implementation of the SQL-92 standard, so applications\n",
      "developed with Derby can be easily transported to other database systems.\n",
      "\n",
      "SQL has two main components: a Data Definition Language (DDL) and a Data\n",
      "Manipulation Language (DML). DDL commands are used to create, modify, or\n",
      "delete items (such as tables) in a database. DML commands are used to\n",
      "add, modify, delete, or select data from a table in the database. The\n",
      "rest of this article provides a basic introduction to the DDL components\n",
      "of SQL. Future articles will focus on the DML commands and more advanced\n",
      "DDL commands. \n",
      "\n",
      "### SQL data types\n",
      "\n",
      "SQL, being a programming language in its own right, defines a rich\n",
      "data-type hierarchy. Persisting these data types is one of the most\n",
      "important responsibilities of the database. As databases have become\n",
      "more powerful, this type hierarchy has grown more complex. But most\n",
      "simple databases don't require the full range of allowed types, and\n",
      "often they need to store only numerical, character, and date or time\n",
      "data. In the interest of simplicity, Tables 1, 2, 3, and 4 present the\n",
      "basic SQL data types as implemented in Derby.\n",
      "\n",
      "https://en.wikipedia.org/wiki/SQL\n"
     ]
    },
    {
     "cell_type": "markdown",
     "metadata": {},
     "source": [
      "#### The SQL NULL type\n",
      "\n",
      "Before you begin creating database tables, you must know what to do when no value is specified for a column. To illustrate this point, imagine that you've been asked to fill out a Web form. If you leave a particular column blank, what is inserted into the database? As you can imagine, this problem could be cumbersome if you had to track no value markers. Fortunately, SQL defines a special value, NULL, to indicate that a column has no value.\n",
      "\n"
     ]
    },
    {
     "cell_type": "markdown",
     "metadata": {},
     "source": [
      "\n"
     ]
    },
    {
     "cell_type": "code",
     "collapsed": false,
     "input": [],
     "language": "python",
     "metadata": {},
     "outputs": []
    },
    {
     "cell_type": "code",
     "collapsed": false,
     "input": [
      "%%writefile create.sql\n",
      "\n",
      "CREATE TABLE myVendors (\n",
      "    itemNumber INT NOT NULL,\n",
      "    vendornumber INT NOT NULL,\n",
      "    vendorName TEXT\n",
      ") ;\n",
      "\n",
      "CREATE TABLE myProducts (\n",
      "    itemNumber INT NOT NULL,\n",
      "    price REAL,\n",
      "    stockDate TEXT,\n",
      "    description TEXT\n",
      ") ;"
     ],
     "language": "python",
     "metadata": {},
     "outputs": [
      {
       "output_type": "stream",
       "stream": "stdout",
       "text": [
        "Overwriting create.sql\n"
       ]
      }
     ],
     "prompt_number": 7
    },
    {
     "cell_type": "code",
     "collapsed": false,
     "input": [
      "!sqlite3 -html bigdog < create.sql"
     ],
     "language": "python",
     "metadata": {},
     "outputs": [
      {
       "output_type": "stream",
       "stream": "stdout",
       "text": [
        "Error: near line 2: table myVendors already exists\r\n",
        "Error: near line 8: table myProducts already exists\r\n"
       ]
      }
     ],
     "prompt_number": 13
    },
    {
     "cell_type": "code",
     "collapsed": false,
     "input": [
      "%%writefile insert.sql\n",
      "\n",
      "-- Single unnamed INSERT\n",
      "INSERT INTO myProducts \n",
      "VALUES(1, 19.95, '2015-03-31', 'Hooded sweatshirt') ;\n",
      "\n",
      "-- Single named INSERT\n",
      "INSERT INTO myProducts (itemNumber, price, stockDate, description) \n",
      "VALUES(2, 99.99, '2015-03-29', 'Beach umbrella') ;\n",
      "\n",
      "-- Single named INSERT with missing data\n",
      "INSERT INTO myProducts (itemNumber, price, stockDate) \n",
      "VALUES(3, 0.99, '2015-02-28') ;\n",
      "\n",
      "-- Multiple named INSERT\n",
      "INSERT INTO myProducts (itemNumber, price, stockDate, description)\n",
      "VALUES (4, 29.95, '2015-02-10', 'Male bathing suit, blue'),\n",
      "       (5, 49.95, '2015-02-20', 'Female bathing suit, one piece, aqua'),\n",
      "       (6, 9.95, '2015-01-15', 'Child sand toy set'),\n",
      "       (7, 24.95, '2014-12-20', 'White beach towel'),\n",
      "       (8, 32.95, '2014-12-22', 'Blue-striped beach towel'),\n",
      "       (9, 12.95, '2015-03-12', 'Flip-flop'),\n",
      "       (10, 34.95, '2015-01-24', 'Open-toed sandal') ;"
     ],
     "language": "python",
     "metadata": {},
     "outputs": [
      {
       "output_type": "stream",
       "stream": "stdout",
       "text": [
        "Overwriting insert.sql\n"
       ]
      }
     ],
     "prompt_number": 16
    },
    {
     "cell_type": "code",
     "collapsed": false,
     "input": [
      "!head -10 insert.sql"
     ],
     "language": "python",
     "metadata": {},
     "outputs": [
      {
       "output_type": "stream",
       "stream": "stdout",
       "text": [
        "\r\n",
        "-- Single unnamed INSERT\r\n",
        "INSERT INTO myProducts VALUES(1, 19.95, '2015-03-31', 'Hooded sweatshirt') ;\r\n",
        "\r\n",
        "-- Single named INSERT\r\n",
        "INSERT INTO myProducts (itemNumber, price, stockDate, description) \r\n",
        "VALUES(2, 99.99, '2015-03-29', 'Beach umbrella') ;\r\n",
        "\r\n",
        "-- Single named INSERT with missing data\r\n",
        "INSERT INTO myProducts (itemNumber, price, stockDate) \r\n"
       ]
      }
     ],
     "prompt_number": 17
    },
    {
     "cell_type": "code",
     "collapsed": false,
     "input": [
      "!sqlite3 bigdog < insert.sql"
     ],
     "language": "python",
     "metadata": {},
     "outputs": [],
     "prompt_number": 18
    },
    {
     "cell_type": "code",
     "collapsed": false,
     "input": [
      "%%writefile select.sql\n",
      "\n",
      "SELECT * FROM myProducts ;"
     ],
     "language": "python",
     "metadata": {},
     "outputs": [
      {
       "output_type": "stream",
       "stream": "stdout",
       "text": [
        "Overwriting select.sql\n"
       ]
      }
     ],
     "prompt_number": 19
    },
    {
     "cell_type": "code",
     "collapsed": false,
     "input": [
      "!sqlite3 bigdog < select.sql"
     ],
     "language": "python",
     "metadata": {},
     "outputs": [
      {
       "output_type": "stream",
       "stream": "stdout",
       "text": [
        "1|19.95|2015-03-31|Hooded sweatshirt\r\n",
        "2|99.99|2015-03-29|Beach umbrella\r\n",
        "3|0.99|2015-02-28|\r\n",
        "4|29.95|2015-02-10|Male bathing suit, blue\r\n",
        "5|49.95|2015-02-20|Female bathing suit, one piece, aqua\r\n",
        "6|9.95|2015-01-15|Child sand toy set\r\n",
        "7|24.95|2014-12-20|White beach towel\r\n",
        "8|32.95|2014-12-22|Blue-striped beach towel\r\n",
        "9|12.95|2015-03-12|Flip-flop\r\n",
        "10|34.95|2015-01-24|Open-toed sandal\r\n",
        "1|19.95|2015-03-31|Hooded sweatshirt\r\n",
        "2|99.99|2015-03-29|Beach umbrella\r\n",
        "3|0.99|2015-02-28|\r\n",
        "4|29.95|2015-02-10|Male bathing suit, blue\r\n",
        "5|49.95|2015-02-20|Female bathing suit, one piece, aqua\r\n",
        "6|9.95|2015-01-15|Child sand toy set\r\n",
        "7|24.95|2014-12-20|White beach towel\r\n",
        "8|32.95|2014-12-22|Blue-striped beach towel\r\n",
        "9|12.95|2015-03-12|Flip-flop\r\n",
        "10|34.95|2015-01-24|Open-toed sandal\r\n"
       ]
      }
     ],
     "prompt_number": 20
    },
    {
     "cell_type": "code",
     "collapsed": false,
     "input": [
      "!wget http://stat-computing.org/dataexpo/2009/carriers.csv"
     ],
     "language": "python",
     "metadata": {},
     "outputs": [
      {
       "output_type": "stream",
       "stream": "stdout",
       "text": [
        "/bin/sh: wget: command not found\r\n"
       ]
      }
     ],
     "prompt_number": 21
    },
    {
     "cell_type": "code",
     "collapsed": false,
     "input": [
      "!wget http://stat-computing.org/dataexpo/2009/airports.csv"
     ],
     "language": "python",
     "metadata": {},
     "outputs": [
      {
       "output_type": "stream",
       "stream": "stdout",
       "text": [
        "/bin/sh: wget: command not found\r\n"
       ]
      }
     ],
     "prompt_number": 22
    },
    {
     "cell_type": "code",
     "collapsed": false,
     "input": [
      "!wget http://stat-computing.org/dataexpo/2009/2001.csv.bz2"
     ],
     "language": "python",
     "metadata": {},
     "outputs": [
      {
       "output_type": "stream",
       "stream": "stdout",
       "text": [
        "/bin/sh: wget: command not found\r\n"
       ]
      }
     ],
     "prompt_number": 23
    },
    {
     "cell_type": "code",
     "collapsed": false,
     "input": [
      "!bzip2 -d 2001.csv.bz2"
     ],
     "language": "python",
     "metadata": {},
     "outputs": []
    },
    {
     "cell_type": "markdown",
     "metadata": {},
     "source": [
      "Stat website gives info on using these data with sqlite.\n",
      "\n",
      "http://stat-computing.org/dataexpo/2009/sqlite.html\n"
     ]
    },
    {
     "cell_type": "markdown",
     "metadata": {},
     "source": [
      "http://sqlzoo.net/wiki/SELECT_basics to try out sql queries with different databases\n",
      "    \n",
      "    or\n",
      "    \n",
      "    http://www.w3schools.com/SQL/trysql.asp?filename=trysql_select_all\n",
      "    \n",
      "    Can do basic operators with SQL\n",
      "    \n",
      "    like SELECT (3 + 4)/5 - 2 * 4.5\n",
      "    "
     ]
    },
    {
     "cell_type": "code",
     "collapsed": false,
     "input": [
      "COLLATE NOCASE for case insensitive with sqlite"
     ],
     "language": "python",
     "metadata": {},
     "outputs": []
    }
   ],
   "metadata": {}
  }
 ]
}