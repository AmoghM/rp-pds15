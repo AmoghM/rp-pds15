{
 "metadata": {
  "name": "",
  "signature": "sha256:7fadec4bd5971df5d023826e8ad74c64136261cc202500678ecc9bfa59ac3853"
 },
 "nbformat": 3,
 "nbformat_minor": 0,
 "worksheets": [
  {
   "cells": [
    {
     "cell_type": "markdown",
     "metadata": {},
     "source": [
      "\n",
      "<DIV ALIGN=CENTER>\n",
      "\n",
      "# Practical Data Science  \n",
      "## University of Illinois, Research Park  \n",
      "## Robert J. Brunner  \n",
      "## Spring 2015  \n",
      "  \n",
      "</DIV>  \n",
      "-----\n",
      "-----"
     ]
    },
    {
     "cell_type": "markdown",
     "metadata": {},
     "source": [
      "## Week 5: Using Databases\n",
      " \n",
      "Firs, we will learn about different data persistence technologies including simple files, before discusssing database management software including relational database systems and NoSQL tools. Next, we introduce the SQLite database, before moving on to a discussion of SQL nad how to create a relational database for the example airline data. Finally, we introduce how to work with a database from within a Python program by using the SQLite database.\n",
      "\n",
      "### Topic 1: [Intrdouction to Databases][1]\n",
      "\n",
      "Learn about databases. And SQLite.\n",
      "\n",
      "### Topic 2: [Introduction to SQL][2]\n",
      "\n",
      "Learn SQL, by using SQLite.\n",
      "\n",
      "### Topic 3: [Database and Python][3]\n",
      "\n",
      "Learn how to work with databases from Python. Also includes a quick introduction to Pandas.\n",
      "\n",
      "\n",
      "-----\n",
      "\n",
      "## Optional Topics\n",
      "\n",
      "### Topic 4: NoSQL Databases\n",
      "\n",
      "-----\n",
      "\n",
      "[1]: intro2db.ipynb\n",
      "[2]: intro2sql.ipynb\n",
      "[3]: dbNpy.ipynb"
     ]
    }
   ],
   "metadata": {}
  }
 ]
}