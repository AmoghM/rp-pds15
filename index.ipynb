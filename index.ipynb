{
 "metadata": {
  "name": "",
  "signature": "sha256:f5bd76a25ecf3e1904fa116637c066a205a0ef8d237bff2a0c15fd7c1b3b9fd1"
 },
 "nbformat": 3,
 "nbformat_minor": 0,
 "worksheets": [
  {
   "cells": [
    {
     "cell_type": "markdown",
     "metadata": {},
     "source": [
      "\n",
      "<DIV ALIGN=CENTER>\n",
      "\n",
      "# Practical Data Science  \n",
      "## University of Illinois, Research Park  \n",
      "## Robert J. Brunner  \n",
      "## Spring 2015  \n",
      "  \n",
      "</DIV>  \n",
      "-----\n",
      "-----"
     ]
    },
    {
     "cell_type": "markdown",
     "metadata": {},
     "source": [
      "## Week 1: [Introduction to Practical Data Science][1]\n",
      "\n",
      "## Week 2: [Practical Command Line Data Science][2]\n",
      "\n",
      "## Week 3: [Python Programming and the IPython Notebook][3]\n",
      "\n",
      "## Week 4: [Introduction to Python Data Visualization][4]\n",
      "\n",
      "\n",
      "-----\n",
      "\n",
      "[1]: Week1/index.ipynb\n",
      "[2]: Week2/index.ipynb\n",
      "[3]: Week3/index.ipynb\n",
      "[4]: Week4/index.ipynb\n",
      "[5]: Week5/index.ipynb\n",
      "[6]: Week6/index.ipynb\n",
      "[7]: Week7/index.ipynb\n",
      "[8]: Week8/index.ipynb"
     ]
    }
   ],
   "metadata": {}
  }
 ]
}