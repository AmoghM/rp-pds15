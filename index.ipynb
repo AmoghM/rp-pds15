{
 "metadata": {
  "name": "",
  "signature": "sha256:63b07e88649d2720b70f91b1bd5e221f228bd1eac468321c888c2acf018e732c"
 },
 "nbformat": 3,
 "nbformat_minor": 0,
 "worksheets": [
  {
   "cells": [
    {
     "cell_type": "markdown",
     "metadata": {},
     "source": [
      "\n",
      "<DIV ALIGN=CENTER>\n",
      "\n",
      "# Practical Data Science  \n",
      "## University of Illinois, Research Park  \n",
      "## Robert J. Brunner  \n",
      "## Spring 2015  \n",
      "  \n",
      "</DIV>  \n",
      "-----\n",
      "-----"
     ]
    },
    {
     "cell_type": "markdown",
     "metadata": {},
     "source": [
      "## Week 1: [Introduction to Practical Data Science][1]\n",
      "\n",
      "## Week 2: [Practical Command Line Data Science & the IPython Notebook][2]\n",
      "\n",
      "-----\n",
      "\n",
      "[1]: Week1/index.ipynb\n",
      "[2]: Week2/index.ipynb\n"
     ]
    }
   ],
   "metadata": {}
  }
 ]
}