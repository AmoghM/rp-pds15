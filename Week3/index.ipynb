{
 "metadata": {
  "name": "",
  "signature": "sha256:64fc2295c374faede4097029e1a591aeb1959f569d25971c7780d10138f4f914"
 },
 "nbformat": 3,
 "nbformat_minor": 0,
 "worksheets": [
  {
   "cells": [
    {
     "cell_type": "markdown",
     "metadata": {},
     "source": [
      "\n",
      "<DIV ALIGN=CENTER>\n",
      "\n",
      "# Practical Data Science  \n",
      "## University of Illinois, Research Park  \n",
      "## Robert J. Brunner  \n",
      "## Spring 2015  \n",
      "  \n",
      "</DIV>  \n",
      "-----\n",
      "-----"
     ]
    },
    {
     "cell_type": "markdown",
     "metadata": {},
     "source": [
      "## Week 3: Programming in Python with the IPython Notebook\n",
      "\n",
      "This week, we will use the IPython Notebook to learn Python programming.\n",
      "We start off by discussing the basic features of the IPython Notebook,\n",
      "before introducing the basic concepts required to write a Python\n",
      "program. Next, we will introduce the basic Python data structures,\n",
      "conditional statements, and loop iterations. Finally, we will introduce\n",
      "advanced Python programming concepts including file input/output,\n",
      "defining new functions, and writing programs that run at the command\n",
      "line.\n",
      "\n",
      "### Topic 1: [Introduction to the IPython Notebook][1]\n",
      "\n",
      "Learn about the IPython notebook, and how to use it to combine both\n",
      "documentation, code, and code results in a clean, web accesible notebook.\n",
      "\n",
      "### Topic 2: [Introduction to Python Programming Language][2]\n",
      "\n",
      "Learn the basics of Python programming, including variables,\n",
      "assignments, basic operations, precedence, and program documentation.\n",
      "\n",
      "### Topic 3: [Fundamental Python Concepts][3]\n",
      "\n",
      "Learn about the basic built-in data structures in the Python language,\n",
      "including the List, Dictionary, String, and Tuple collections. Next,\n",
      "learn about conditional statements and iterative loops before concluding\n",
      "with a discussion of comprehensions.\n",
      "\n",
      "### Topic 4: [Advanced Python Concepts][4]\n",
      "\n",
      "Learn how to read and write data to files by using a runtime context.\n",
      "Next, learn about Python packages that can be used to simplify\n",
      "application development, before moving on to a discussion of\n",
      "user-defined functions. Finally, conclude with a discussion of writing a\n",
      "Python program that runs at the Unix command line.\n",
      "\n",
      "<!-- Have not included Exception Handling, Regular Expressions, nor Classes in this version -->\n",
      "\n",
      "-----\n",
      "\n",
      "## Optional Topics\n",
      "\n",
      "### Topic 5: Exception Handling in Python\n",
      "\n",
      "### Topic 6: Regular Expressions in Python\n",
      "\n",
      "### Topic 7: Object-Oriented Programming with Python\n",
      "\n",
      "-----\n",
      "\n",
      "[1]: intro2ipy.ipynb\n",
      "[2]: intro2py.ipynb\n",
      "[3]: fundamentalpy.ipynb\n",
      "[4]: advancedpy.ipynb"
     ]
    }
   ],
   "metadata": {}
  }
 ]
}