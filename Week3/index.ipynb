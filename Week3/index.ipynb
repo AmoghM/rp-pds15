{
 "metadata": {
  "name": "",
  "signature": "sha256:696ddc55dfde627c0003ea944c55317538252b6b4f78ca852d71eb0bb144f0f1"
 },
 "nbformat": 3,
 "nbformat_minor": 0,
 "worksheets": [
  {
   "cells": [
    {
     "cell_type": "markdown",
     "metadata": {},
     "source": [
      "\n",
      "<DIV ALIGN=CENTER>\n",
      "\n",
      "# Practical Data Science  \n",
      "## University of Illinois, Research Park  \n",
      "## Robert J. Brunner  \n",
      "## Spring 2015  \n",
      "  \n",
      "</DIV>  \n",
      "-----\n",
      "-----"
     ]
    },
    {
     "cell_type": "markdown",
     "metadata": {},
     "source": [
      "## Week 3: Programming in Python with the IPython Notebook\n",
      "\n",
      "This week, we will introduce the IPython Notebook, which provides a\n",
      "convenient solution to combine notes, code, and code output (such as\n",
      "data visualizations) in a coherent package. Next, we will use the\n",
      "IPython Notebook to learn Python programming. We start off by discussing\n",
      "the basic concepts required to write a Python program. Finally, we will\n",
      "introduce the basic Python data structures, conditional statements, loop\n",
      "iterations, and comprehensions.\n",
      "\n",
      "### Topic 1: [Introduction to the IPython Notebook][1]\n",
      "\n",
      "Learn about the IPython notebook, and how to use it to combine both\n",
      "documentation, code, and code results in a clean, web accesible notebook.\n",
      "\n",
      "### Topic 2: [Introduction to Python Programming Language][2]\n",
      "\n",
      "Learn the basics of Python programming, including variables,\n",
      "assignments, basic operations, precedence, and program documentation.\n",
      "\n",
      "### Topic 3: [Fundamental Python Concepts][3]\n",
      "\n",
      "Learn about the basic built-in data structures in the Python language,\n",
      "including the List, Dictionary, String, and Tuple collections. Next,\n",
      "learn about conditional statements and iterative loops before concluding\n",
      "with a discussion of comprehensions.\n",
      "\n",
      "<!-- Have moved Advanced material to W4, have\n",
      "not included Exception Handling, Regular Expressions, nor Classes in this version -->\n",
      "\n",
      "-----\n",
      "\n",
      "## Optional Topics\n",
      "\n",
      "### Topic 4: Exception Handling in Python\n",
      "\n",
      "### Topic 5: Regular Expressions in Python\n",
      "\n",
      "### Topic 6: Object-Oriented Programming with Python\n",
      "\n",
      "-----\n",
      "\n",
      "[1]: intro2ipy.ipynb\n",
      "[2]: intro2py.ipynb\n",
      "[3]: fundamentalpy.ipynb\n",
      "\n"
     ]
    }
   ],
   "metadata": {}
  }
 ]
}