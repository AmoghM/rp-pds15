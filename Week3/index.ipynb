{
 "metadata": {
  "name": "",
  "signature": "sha256:46cc81bca3438307c387bb75fdafeacbf61620661c3b34c6d760df1c2e817e76"
 },
 "nbformat": 3,
 "nbformat_minor": 0,
 "worksheets": [
  {
   "cells": [
    {
     "cell_type": "markdown",
     "metadata": {},
     "source": [
      "\n",
      "<DIV ALIGN=CENTER>\n",
      "\n",
      "# Practical Data Science  \n",
      "## University of Illinois, Research Park  \n",
      "## Robert J. Brunner  \n",
      "## Spring 2015  \n",
      "  \n",
      "</DIV>  \n",
      "-----\n",
      "-----"
     ]
    },
    {
     "cell_type": "markdown",
     "metadata": {},
     "source": [
      "## Week 3: Introduction to Python Programming and the IPython Notebook\n",
      " \n",
      "Use the IPython Notebook to learn Python programming. Reference Think in\n",
      "Python and Dive Into Python. Difference between Python 2 and Python 3.\n",
      "\n",
      "### Topic 1: [Introduction to the IPython Notebook][1]\n",
      "\n",
      "Learn about the IPython notebook, and how to use it to combine both\n",
      "documentation, code, and code results in a clean, web accesible notebook.\n",
      "\n",
      "### Topic 2: [Introduction to Python][2]\n",
      "\n",
      "Learn the basics of Python programming, including variables,\n",
      "assignments, basic operations, conditionals, and loops\n",
      "\n",
      "### Topic 3: [Python Data Structures][3]\n",
      "\n",
      "Learn about the basic builtin data structures in the Python3 language,\n",
      "including the List, the Dictionary, Strings, and Tuples. Others, Maybe\n",
      "Set? Also introduce comprehensions.\n",
      "\n",
      "### Topic 4: [Advanced Python][4]\n",
      "\n",
      "Functions, Modules, Libraries, File I/O with contexts, ?regular expressions?, \n",
      "\n",
      "-----\n",
      "\n",
      "## Optional Topics\n",
      "\n",
      "### Topic 5: Classes\n",
      "\n",
      "- Linux based [Bash tutorial](http://linuxconfig.org/bash-scripting-tutorial)\n",
      "- General [Bash tutorial](http://www.hypexr.org/bash_tutorial.php)\n",
      "\n",
      "-----\n",
      "\n",
      "[1]: intro2ipy.ipynb\n",
      "[2]: intro2py.ipynb\n",
      "[3]: pydatastruct.ipynb\n",
      "[4]: advancedpy.ipynb"
     ]
    }
   ],
   "metadata": {}
  }
 ]
}