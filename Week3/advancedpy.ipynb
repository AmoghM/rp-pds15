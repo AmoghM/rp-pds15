{
 "metadata": {
  "name": "",
  "signature": "sha256:ab6d5881efe3afc63af8d316b7fc81991e1f62a9b14e0352c7e4422ce6485143"
 },
 "nbformat": 3,
 "nbformat_minor": 0,
 "worksheets": [
  {
   "cells": [
    {
     "cell_type": "markdown",
     "metadata": {},
     "source": [
      "<DIV ALIGN=CENTER>\n",
      "\n",
      "# Advanced Python Concepts (Don't like this title)\n",
      "## Professor Robert J. Brunner\n",
      "  \n",
      "</DIV>  \n",
      "-----\n",
      "-----"
     ]
    },
    {
     "cell_type": "markdown",
     "metadata": {},
     "source": [
      "## Introduction \n",
      "\n",
      "Notebook 2:\n",
      "functions\n",
      "Comprehensions\n",
      "\n",
      "File I/O\n",
      "Modules/Libraries\n",
      "command line programs.\n",
      "\n",
      "regular expressions?\n",
      "\n",
      "Classes\n",
      "\n",
      "-----\n"
     ]
    },
    {
     "cell_type": "markdown",
     "metadata": {},
     "source": [
      "## Breakout Session: Coding in IPython Notebooks\n",
      "\n",
      "During this session, you should learn to edit and run Python code in an\n",
      "IPython notebook by using the running IPython server in your Docker\n",
      "container.\n",
      "\n",
      "### Introductory Challenge\n",
      "\n",
      "New users should first create a new IPython Notebook, and enter the code\n",
      "contained in this Notebook in their new IPython Notebook.\n",
      "\n",
      "### Advanced Challenge\n",
      "\n",
      "More advanced users should download this IPython Notebook from github\n",
      "and edit and run the code in place.\n",
      "\n",
      "-----"
     ]
    },
    {
     "cell_type": "markdown",
     "metadata": {},
     "source": [
      "### Additional References\n",
      "\n",
      "1. [IPython videos]( http://ipython.org/videos.html).\n",
      "2. [IPython documentation](http://ipython.org/ipython-doc/stable/index.html).\n",
      "\n",
      "-----"
     ]
    },
    {
     "cell_type": "markdown",
     "metadata": {},
     "source": [
      "### Return to the [Week 3 Index](index.ipynb).\n",
      "\n",
      "-----"
     ]
    }
   ],
   "metadata": {}
  }
 ]
}