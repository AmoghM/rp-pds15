{
 "metadata": {
  "name": "",
  "signature": "sha256:ee5ddcb3cbd05345646710cc0f44904039034eaac90b2d49fa532591a91470e0"
 },
 "nbformat": 3,
 "nbformat_minor": 0,
 "worksheets": [
  {
   "cells": [
    {
     "cell_type": "markdown",
     "metadata": {},
     "source": [
      "<DIV ALIGN=CENTER>\n",
      "\n",
      "# Introduction to Data Exploration\n",
      "## Professor Robert J. Brunner\n",
      "  \n",
      "</DIV>  \n",
      "-----\n",
      "-----"
     ]
    },
    {
     "cell_type": "markdown",
     "metadata": {},
     "source": [
      "## Introduction\n",
      "\n",
      "In this Notebook, we will introduce data exploration. \n",
      "\n",
      "Before we start learning from our data, we need to first read the data into our notebook. \n",
      "\n",
      "So let's start wiht the flights database, and try to read it into the Notebook.\n",
      "\n",
      "\n",
      "First, however, lets read data from the SQLite3 database we constructed\n",
      "in [Week5][db], specifically the airport data, to demonstrate how to\n",
      "write and read data into the specific formats. To complete this task, we\n",
      "first need to construct a suitable SQL query, establish a database\n",
      "connection, execute the query, and process the query results, which in\n",
      "this case simply means accumulating a list of rows extracted by the\n",
      "query.\n",
      "\n",
      "-----\n",
      "[db]: ../Week5/dbNpy.ipynb"
     ]
    },
    {
     "cell_type": "code",
     "collapsed": false,
     "input": [
      "# Lets grab data from the sqlite database\n",
      "import sqlite3 as sl\n",
      "\n",
      "# Our list of airport rows\n",
      "airports = []\n",
      "\n",
      "# The database location\n",
      "database = '/notebooks/rppds/database/rppds'\n",
      "\n",
      "# The airport query, all columns specified in order.\n",
      "query = \"SELECT * FROM flights\"\n",
      "\n",
      "# Establish a connection\n",
      "with sl.connect(database) as con:\n",
      "    \n",
      "    # We will wrap our database access statements with exception handling\n",
      "\n",
      "    try:\n",
      "        \n",
      "        # Get a cursor and execute our query\n",
      "\n",
      "        cur = con.cursor()\n",
      "        cur.execute(query)   \n",
      "    \n",
      "        # Iterate through the query results to build airport list\n",
      "        for row in cur.execute(query):\n",
      "            airports.append(row)\n",
      "        \n",
      "    except sqlite3.Warning as w:\n",
      "        print(\"Warning:\", w.args[0])\n",
      "\n",
      "    except sqlite3.Error as e:\n",
      "        print(\"Error:\", e.args[0])\n",
      "\n",
      "# Now display the first few entries\n",
      "print(airports[0:3])"
     ],
     "language": "python",
     "metadata": {},
     "outputs": [
      {
       "output_type": "stream",
       "stream": "stdout",
       "text": [
        "[]\n"
       ]
      }
     ],
     "prompt_number": 2
    },
    {
     "cell_type": "markdown",
     "metadata": {},
     "source": [
      "-----\n",
      "\n",
      "Well, that executed quickly.\n",
      "\n",
      "But why was nothing printed out?\n",
      "\n",
      "----"
     ]
    },
    {
     "cell_type": "code",
     "collapsed": false,
     "input": [
      "print(len(airports))"
     ],
     "language": "python",
     "metadata": {},
     "outputs": [
      {
       "output_type": "stream",
       "stream": "stdout",
       "text": [
        "0\n"
       ]
      }
     ],
     "prompt_number": 3
    },
    {
     "cell_type": "code",
     "collapsed": false,
     "input": [
      "!wc -l /notebooks/rppds/data/2001.csv"
     ],
     "language": "python",
     "metadata": {},
     "outputs": [
      {
       "output_type": "stream",
       "stream": "stdout",
       "text": [
        "5967781 /notebooks/rppds/data/2001.csv\r\n"
       ]
      }
     ],
     "prompt_number": 4
    },
    {
     "cell_type": "markdown",
     "metadata": {},
     "source": [
      "----\n",
      "\n",
      "So our query didn't work. That is odd, no warnings or errors. Maybe it didn't like that no Columns were listed?\n",
      "\n",
      "\n",
      "----"
     ]
    },
    {
     "cell_type": "code",
     "collapsed": false,
     "input": [
      "# Lets grab data from the sqlite database\n",
      "\n",
      "# Our list of airport rows\n",
      "airports = []\n",
      "\n",
      "# The airport query, all columns specified in order.\n",
      "\n",
      "query = '''SELECT\n",
      "year, Month, dayOfMonth, dayOfWeek, actualDepartureTime, scheduledDepartureTime, \n",
      "arrivalArrivalTime, scheduledArrivalTime, uniqueCarrierCode, flightNumber,\n",
      "tailNumber, actualElapsedTime, scheduledElapsedTime, airTime, arrivalDelay, \n",
      "departureDelay, originCode, destinationCode, distance, taxiIn, taxiOut, cancelled,\n",
      "cancellationCode, diverted, carrierDelay, weatherDelay, nasDelay, \n",
      "securityDelay, lateAircraftDelay\n",
      "FROM flights;\n",
      "'''\n",
      "\n",
      "# Establish a connection\n",
      "with sl.connect(database) as con:\n",
      "    \n",
      "    # We will wrap our database access statements with exception handling\n",
      "\n",
      "    try:\n",
      "        \n",
      "        # Get a cursor and execute our query\n",
      "\n",
      "        cur = con.cursor()\n",
      "        cur.execute(query)   \n",
      "    \n",
      "        # Iterate through the query results to build airport list\n",
      "        for row in cur.execute(query):\n",
      "            airports.append(row)\n",
      "        \n",
      "    except sqlite3.Warning as w:\n",
      "        print(\"Warning:\", w.args[0])\n",
      "\n",
      "    except sqlite3.Error as e:\n",
      "        print(\"Error:\", e.args[0])\n",
      "\n",
      "# Now display the first few entries\n",
      "print(airports[0:3])"
     ],
     "language": "python",
     "metadata": {},
     "outputs": [
      {
       "output_type": "stream",
       "stream": "stdout",
       "text": [
        "[]\n"
       ]
      }
     ],
     "prompt_number": 5
    },
    {
     "cell_type": "markdown",
     "metadata": {},
     "source": [
      "-----\n",
      "\n",
      "OK, this is odd. We can try chanign the query to add a LIMIT statement. Still doesn't work.\n",
      "\n",
      "So maybe just read the data into a Pandas DataFrame straight fomr the CSV file?\n",
      "\n",
      "-----"
     ]
    },
    {
     "cell_type": "code",
     "collapsed": false,
     "input": [
      "# Lets grab data from the sqlite database\n",
      "import pandas as pd\n",
      "\n",
      "csvfile = '/notebooks/rppds/data/2001.csv'\n",
      "\n",
      "try:\n",
      "\n",
      "    data = pd.read_csv(csvfile, encoding='latin-1')\n",
      "\n",
      "    # Now display the first few entries\n",
      "    print(data.head())\n",
      "\n",
      "except Exception as e:\n",
      "    print(\"Error:\", type(e))\n"
     ],
     "language": "python",
     "metadata": {},
     "outputs": [
      {
       "output_type": "stream",
       "stream": "stdout",
       "text": [
        "Error: <class 'MemoryError'>\n"
       ]
      }
     ],
     "prompt_number": 6
    },
    {
     "cell_type": "markdown",
     "metadata": {},
     "source": [
      "-----\n",
      "\n",
      "What is going on, Memory Error?\n",
      "\n",
      "Look at memory with free -m\n",
      "\n",
      "![Free Memory](images/memory1.png)\n",
      "\n",
      "not much memory and swap is consumed. Resstart kernel. Now look at free memory\n",
      "\n",
      "![Free Memory after Restart](images/memory2.png)\n",
      "\n",
      "\n",
      "\n",
      "\n",
      "------"
     ]
    },
    {
     "cell_type": "code",
     "collapsed": false,
     "input": [
      "!free -m"
     ],
     "language": "python",
     "metadata": {},
     "outputs": [
      {
       "output_type": "stream",
       "stream": "stdout",
       "text": [
        "             total       used       free     shared    buffers     cached\r\n",
        "Mem:          2008        237       1770          3          9         41\r\n",
        "-/+ buffers/cache:        186       1821\r\n",
        "Swap:         1433        152       1281\r\n"
       ]
      }
     ],
     "prompt_number": 1
    },
    {
     "cell_type": "code",
     "collapsed": false,
     "input": [
      "!wc /notebooks/rppds/data/2001.csv"
     ],
     "language": "python",
     "metadata": {},
     "outputs": [
      {
       "output_type": "stream",
       "stream": "stdout",
       "text": [
        "  5967781   5967781 600411462 /notebooks/rppds/data/2001.csv\r\n"
       ]
      }
     ],
     "prompt_number": 2
    },
    {
     "cell_type": "markdown",
     "metadata": {},
     "source": [
      "-----\n",
      "\n",
      "OK, so we need to only pull some data out of the database, but what columns? We can look at the start of the data file to get an idea, since the columns are shown.\n",
      "\n",
      "-----"
     ]
    },
    {
     "cell_type": "code",
     "collapsed": false,
     "input": [
      "!head -5 /notebooks/rppds/data/2001.csv"
     ],
     "language": "python",
     "metadata": {},
     "outputs": [
      {
       "output_type": "stream",
       "stream": "stdout",
       "text": [
        "Year,Month,DayofMonth,DayOfWeek,DepTime,CRSDepTime,ArrTime,CRSArrTime,UniqueCarrier,FlightNum,TailNum,ActualElapsedTime,CRSElapsedTime,AirTime,ArrDelay,DepDelay,Origin,Dest,Distance,TaxiIn,TaxiOut,Cancelled,CancellationCode,Diverted,CarrierDelay,WeatherDelay,NASDelay,SecurityDelay,LateAircraftDelay\r\n",
        "2001,1,17,3,1806,1810,1931,1934,US,375,N700\ufffd\ufffd,85,84,60,-3,-4,BWI,CLT,361,5,20,0,NA,0,NA,NA,NA,NA,NA\r\n",
        "2001,1,18,4,1805,1810,1938,1934,US,375,N713\ufffd\ufffd,93,84,64,4,-5,BWI,CLT,361,9,20,0,NA,0,NA,NA,NA,NA,NA\r\n",
        "2001,1,19,5,1821,1810,1957,1934,US,375,N702\ufffd\ufffd,96,84,80,23,11,BWI,CLT,361,6,10,0,NA,0,NA,NA,NA,NA,NA\r\n",
        "2001,1,20,6,1807,1810,1944,1934,US,375,N701\ufffd\ufffd,97,84,66,10,-3,BWI,CLT,361,4,27,0,NA,0,NA,NA,NA,NA,NA\r\n"
       ]
      }
     ],
     "prompt_number": 3
    },
    {
     "cell_type": "markdown",
     "metadata": {},
     "source": [
      "-----\n",
      "\n",
      "It should be interesting to explore the relaitionship between arrival and departure times, and delays. We also might want to know if this varis with month, airport, or day of the week.\n",
      "so lets grab those columns from data file. We can do this using SQL and Pandas.\n",
      "\n",
      "```python\n",
      "\n",
      "import sqlite3 as sl\n",
      "import pandas as pd\n",
      "\n",
      "query = \"\"\"\n",
      "    SELECT dayOfWeek, month, actualDepartureTime, arrivalArrivalTime, \n",
      "           flightNumber, arrivalDelay, departureDelay, distance, originCode, \n",
      "           destinationCode \n",
      "    FROM flights \n",
      "\"\"\"\n",
      "\n",
      "with sl.connect(database) as con:\n",
      "    data = pd.read_sql(query, con)\n",
      "```\n",
      "\n",
      "If we do this though, we will get again run out of memory. This will lead to the following window:\n",
      "\n",
      "![Kernel Restart](images/restart.png)\n",
      "\n",
      "So we can try to grab just one or two columns and see what happens? Lets go with the delay columns for now.\n",
      "\n",
      "-----"
     ]
    },
    {
     "cell_type": "code",
     "collapsed": false,
     "input": [
      "# Lets grab data from the sqlite database\n",
      "\n",
      "import sqlite3 as sl\n",
      "import pandas as pd\n",
      "\n",
      "database = '/notebooks/rppds/database/rppds'\n",
      "\n",
      "query = '''SELECT arrivalDelay, departureDelay FROM flights '''\n",
      "\n",
      "with sl.connect(database) as con:\n",
      "    data = pd.read_sql(query, con)\n",
      "\n",
      "# Now display the first few entries\n",
      "print(data.head())\n"
     ],
     "language": "python",
     "metadata": {},
     "outputs": [
      {
       "output_type": "stream",
       "stream": "stdout",
       "text": [
        "  arrivalDelay departureDelay\n",
        "0     ArrDelay       DepDelay\n",
        "1           -3             -4\n",
        "2            4             -5\n",
        "3           23             11\n",
        "4           10             -3\n",
        "\n",
        "[5 rows x 2 columns]\n"
       ]
      }
     ],
     "prompt_number": 4
    },
    {
     "cell_type": "code",
     "collapsed": false,
     "input": [
      "!free -m"
     ],
     "language": "python",
     "metadata": {},
     "outputs": [
      {
       "output_type": "stream",
       "stream": "stdout",
       "text": [
        "             total       used       free     shared    buffers     cached\r\n",
        "Mem:          2008        887       1120          3          9         47\r\n",
        "-/+ buffers/cache:        830       1177\r\n",
        "Swap:         1433        145       1288\r\n"
       ]
      }
     ],
     "prompt_number": 5
    },
    {
     "cell_type": "markdown",
     "metadata": {},
     "source": [
      "----- \n",
      "\n",
      "So these two columns basically took half of our available memory. WHy?\n",
      "\n",
      "-----"
     ]
    },
    {
     "cell_type": "code",
     "collapsed": false,
     "input": [
      "data.describe()"
     ],
     "language": "python",
     "metadata": {},
     "outputs": [
      {
       "html": [
        "<div style=\"max-height:1000px;max-width:1500px;overflow:auto;\">\n",
        "<table border=\"1\" class=\"dataframe\">\n",
        "  <thead>\n",
        "    <tr style=\"text-align: right;\">\n",
        "      <th></th>\n",
        "      <th>arrivalDelay</th>\n",
        "      <th>departureDelay</th>\n",
        "    </tr>\n",
        "  </thead>\n",
        "  <tbody>\n",
        "    <tr>\n",
        "      <th>count</th>\n",
        "      <td> 5967781</td>\n",
        "      <td> 5967781</td>\n",
        "    </tr>\n",
        "    <tr>\n",
        "      <th>unique</th>\n",
        "      <td>    1003</td>\n",
        "      <td>     979</td>\n",
        "    </tr>\n",
        "    <tr>\n",
        "      <th>top</th>\n",
        "      <td>      NA</td>\n",
        "      <td>       0</td>\n",
        "    </tr>\n",
        "    <tr>\n",
        "      <th>freq</th>\n",
        "      <td>  244107</td>\n",
        "      <td> 1071165</td>\n",
        "    </tr>\n",
        "  </tbody>\n",
        "</table>\n",
        "<p>4 rows \u00d7 2 columns</p>\n",
        "</div>"
       ],
       "metadata": {},
       "output_type": "pyout",
       "prompt_number": 6,
       "text": [
        "       arrivalDelay  departureDelay\n",
        "count       5967781         5967781\n",
        "unique         1003             979\n",
        "top              NA               0\n",
        "freq         244107         1071165\n",
        "\n",
        "[4 rows x 2 columns]"
       ]
      }
     ],
     "prompt_number": 6
    },
    {
     "cell_type": "markdown",
     "metadata": {},
     "source": [
      "-----\n",
      "\n",
      "This is odd, the two columns are numerical data types, right? The first few lines showed they were numbers. Lets look at the actual Pandas data types being used. But there is an NA.\n",
      "\n",
      "-----"
     ]
    },
    {
     "cell_type": "code",
     "collapsed": false,
     "input": [
      "data.dtypes"
     ],
     "language": "python",
     "metadata": {},
     "outputs": [
      {
       "metadata": {},
       "output_type": "pyout",
       "prompt_number": 7,
       "text": [
        "arrivalDelay      object\n",
        "departureDelay    object\n",
        "dtype: object"
       ]
      }
     ],
     "prompt_number": 7
    },
    {
     "cell_type": "code",
     "collapsed": false,
     "input": [
      "data.info(verbose=True)"
     ],
     "language": "python",
     "metadata": {},
     "outputs": [
      {
       "output_type": "stream",
       "stream": "stdout",
       "text": [
        "<class 'pandas.core.frame.DataFrame'>\n",
        "Int64Index: 5967781 entries, 0 to 5967780\n",
        "Data columns (total 2 columns):\n",
        "arrivalDelay      object\n",
        "departureDelay    object\n",
        "dtypes: object(2)"
       ]
      }
     ],
     "prompt_number": 11
    },
    {
     "cell_type": "code",
     "collapsed": false,
     "input": [
      "!tail -5 /notebooks/rppds/data/2001.csv"
     ],
     "language": "python",
     "metadata": {},
     "outputs": [
      {
       "output_type": "stream",
       "stream": "stdout",
       "text": [
        "2001,12,14,5,704,700,1159,1155,DL,678,-N914D,175,175,148,4,4,ONT,DFW,1189,14,13,0,NA,0,NA,NA,NA,NA,NA\r\n",
        "2001,12,15,6,708,700,1158,1155,DL,678,-N913D,170,175,143,3,8,ONT,DFW,1189,9,18,0,NA,0,NA,NA,NA,NA,NA\r\n",
        "2001,12,16,7,656,700,1147,1155,DL,678,-N910D,171,175,153,-8,-4,ONT,DFW,1189,7,11,0,NA,0,NA,NA,NA,NA,NA\r\n",
        "2001,12,17,1,656,700,1151,1155,DL,678,N906D1,175,175,151,-4,-4,ONT,DFW,1189,13,11,0,NA,0,NA,NA,NA,NA,NA\r\n",
        "2001,12,18,2,709,700,1158,1155,DL,678,N905D1,169,175,143,3,9,ONT,DFW,1189,10,16,0,NA,0,NA,NA,NA,NA,NA\r\n"
       ]
      }
     ],
     "prompt_number": 4
    },
    {
     "cell_type": "code",
     "collapsed": false,
     "input": [
      "print(pd.version.version)"
     ],
     "language": "python",
     "metadata": {},
     "outputs": [
      {
       "output_type": "stream",
       "stream": "stdout",
       "text": [
        "0.13.1\n"
       ]
      }
     ],
     "prompt_number": 12
    },
    {
     "cell_type": "markdown",
     "metadata": {},
     "source": [
      "----\n",
      "\n",
      "SO, we have NA valus in the columns and those were causing problems. \n",
      "\n",
      "1. Non intger type, and \n",
      "2. more storage space. \n",
      "\n",
      "Lets read back in but cut out NA values.\n",
      "\n",
      "Our version of Pandas limits what we might want to do. In Pandas 0.15.2 or higher\n",
      "\n",
      "```python\n",
      "data.memory_usage(verbose=true)\n",
      "```\n",
      "\n",
      "----"
     ]
    },
    {
     "cell_type": "code",
     "collapsed": false,
     "input": [
      "# Lets grab data from the sqlite database\n",
      "\n",
      "import sqlite3 as sl\n",
      "import pandas as pd\n",
      "\n",
      "database = '/notebooks/rppds/database/rppds'\n",
      "\n",
      "query = '''SELECT arrivalDelay, departureDelay \n",
      "    FROM flights\n",
      "    WHERE arrivalDelay != 'NA' AND\n",
      "        departureDelay != 'NA' ; '''\n",
      "\n",
      "with sl.connect(database) as con:\n",
      "    data = pd.read_sql(query, con)\n",
      "\n",
      "# Now display the first few entries\n",
      "print(data.head())\n"
     ],
     "language": "python",
     "metadata": {},
     "outputs": [
      {
       "output_type": "stream",
       "stream": "stdout",
       "text": [
        "   arrivalDelay  departureDelay\n",
        "0            -3              -4\n",
        "1             4              -5\n",
        "2            23              11\n",
        "3            10              -3\n",
        "4            20               0\n",
        "\n",
        "[5 rows x 2 columns]\n"
       ]
      }
     ],
     "prompt_number": 37
    },
    {
     "cell_type": "code",
     "collapsed": false,
     "input": [
      "data.describe()"
     ],
     "language": "python",
     "metadata": {},
     "outputs": [
      {
       "html": [
        "<div style=\"max-height:1000px;max-width:1500px;overflow:auto;\">\n",
        "<table border=\"1\" class=\"dataframe\">\n",
        "  <thead>\n",
        "    <tr style=\"text-align: right;\">\n",
        "      <th></th>\n",
        "      <th>arrivalDelay</th>\n",
        "      <th>departureDelay</th>\n",
        "    </tr>\n",
        "  </thead>\n",
        "  <tbody>\n",
        "    <tr>\n",
        "      <th>count</th>\n",
        "      <td> 5723673.000000</td>\n",
        "      <td> 5723673.000000</td>\n",
        "    </tr>\n",
        "    <tr>\n",
        "      <th>mean</th>\n",
        "      <td>       5.528249</td>\n",
        "      <td>       8.115272</td>\n",
        "    </tr>\n",
        "    <tr>\n",
        "      <th>std</th>\n",
        "      <td>      31.429291</td>\n",
        "      <td>      28.234083</td>\n",
        "    </tr>\n",
        "    <tr>\n",
        "      <th>min</th>\n",
        "      <td>   -1116.000000</td>\n",
        "      <td>    -204.000000</td>\n",
        "    </tr>\n",
        "    <tr>\n",
        "      <th>25%</th>\n",
        "      <td>      -9.000000</td>\n",
        "      <td>      -3.000000</td>\n",
        "    </tr>\n",
        "    <tr>\n",
        "      <th>50%</th>\n",
        "      <td>      -2.000000</td>\n",
        "      <td>       0.000000</td>\n",
        "    </tr>\n",
        "    <tr>\n",
        "      <th>75%</th>\n",
        "      <td>      10.000000</td>\n",
        "      <td>       6.000000</td>\n",
        "    </tr>\n",
        "    <tr>\n",
        "      <th>max</th>\n",
        "      <td>    1688.000000</td>\n",
        "      <td>    1692.000000</td>\n",
        "    </tr>\n",
        "  </tbody>\n",
        "</table>\n",
        "<p>8 rows \u00d7 2 columns</p>\n",
        "</div>"
       ],
       "metadata": {},
       "output_type": "pyout",
       "prompt_number": 38,
       "text": [
        "         arrivalDelay  departureDelay\n",
        "count  5723673.000000  5723673.000000\n",
        "mean         5.528249        8.115272\n",
        "std         31.429291       28.234083\n",
        "min      -1116.000000     -204.000000\n",
        "25%         -9.000000       -3.000000\n",
        "50%         -2.000000        0.000000\n",
        "75%         10.000000        6.000000\n",
        "max       1688.000000     1692.000000\n",
        "\n",
        "[8 rows x 2 columns]"
       ]
      }
     ],
     "prompt_number": 38
    },
    {
     "cell_type": "code",
     "collapsed": false,
     "input": [
      "!free -m"
     ],
     "language": "python",
     "metadata": {},
     "outputs": [
      {
       "output_type": "stream",
       "stream": "stdout",
       "text": [
        "             total       used       free     shared    buffers     cached\r\n",
        "Mem:          2008       1590        417          2          3         21\r\n",
        "-/+ buffers/cache:       1565        442\r\n",
        "Swap:         1433        707        726\r\n"
       ]
      }
     ],
     "prompt_number": 40
    },
    {
     "cell_type": "code",
     "collapsed": false,
     "input": [
      "data.dtypes"
     ],
     "language": "python",
     "metadata": {},
     "outputs": [
      {
       "metadata": {},
       "output_type": "pyout",
       "prompt_number": 41,
       "text": [
        "arrivalDelay      int64\n",
        "departureDelay    int64\n",
        "dtype: object"
       ]
      }
     ],
     "prompt_number": 41
    },
    {
     "cell_type": "code",
     "collapsed": false,
     "input": [
      "import numpy as np\n",
      "data[['arrivalDelay']] = data[['arrivalDelay']].astype(np.int16)\n",
      "data[['departureDelay']] = data[['departureDelay']].astype(np.int16)"
     ],
     "language": "python",
     "metadata": {},
     "outputs": [],
     "prompt_number": 42
    },
    {
     "cell_type": "code",
     "collapsed": false,
     "input": [
      "!free -m"
     ],
     "language": "python",
     "metadata": {},
     "outputs": [
      {
       "output_type": "stream",
       "stream": "stdout",
       "text": [
        "             total       used       free     shared    buffers     cached\r\n",
        "Mem:          2008       1600        407          2          3         21\r\n",
        "-/+ buffers/cache:       1575        432\r\n",
        "Swap:         1433        707        726\r\n"
       ]
      }
     ],
     "prompt_number": 43
    },
    {
     "cell_type": "code",
     "collapsed": false,
     "input": [
      "data.dtypes"
     ],
     "language": "python",
     "metadata": {},
     "outputs": [
      {
       "metadata": {},
       "output_type": "pyout",
       "prompt_number": 44,
       "text": [
        "arrivalDelay      int16\n",
        "departureDelay    int16\n",
        "dtype: object"
       ]
      }
     ],
     "prompt_number": 44
    },
    {
     "cell_type": "code",
     "collapsed": false,
     "input": [
      "newdata = pd.read_csv('/notebooks/rppds/data/2001.csv', dtype=np.float, header=0, na_values=['NA'], usecols=(14, 15))"
     ],
     "language": "python",
     "metadata": {},
     "outputs": [],
     "prompt_number": 45
    },
    {
     "cell_type": "code",
     "collapsed": false,
     "input": [
      "ndata = newdata.dropna()\n",
      "ndata.describe() # 5723674\n"
     ],
     "language": "python",
     "metadata": {},
     "outputs": [
      {
       "html": [
        "<div style=\"max-height:1000px;max-width:1500px;overflow:auto;\">\n",
        "<table border=\"1\" class=\"dataframe\">\n",
        "  <thead>\n",
        "    <tr style=\"text-align: right;\">\n",
        "      <th></th>\n",
        "      <th>ArrDelay</th>\n",
        "      <th>DepDelay</th>\n",
        "    </tr>\n",
        "  </thead>\n",
        "  <tbody>\n",
        "    <tr>\n",
        "      <th>count</th>\n",
        "      <td> 5723673.000000</td>\n",
        "      <td> 5723673.000000</td>\n",
        "    </tr>\n",
        "    <tr>\n",
        "      <th>mean</th>\n",
        "      <td>       5.528249</td>\n",
        "      <td>       8.115272</td>\n",
        "    </tr>\n",
        "    <tr>\n",
        "      <th>std</th>\n",
        "      <td>      31.429291</td>\n",
        "      <td>      28.234083</td>\n",
        "    </tr>\n",
        "    <tr>\n",
        "      <th>min</th>\n",
        "      <td>   -1116.000000</td>\n",
        "      <td>    -204.000000</td>\n",
        "    </tr>\n",
        "    <tr>\n",
        "      <th>25%</th>\n",
        "      <td>      -9.000000</td>\n",
        "      <td>      -3.000000</td>\n",
        "    </tr>\n",
        "    <tr>\n",
        "      <th>50%</th>\n",
        "      <td>      -2.000000</td>\n",
        "      <td>       0.000000</td>\n",
        "    </tr>\n",
        "    <tr>\n",
        "      <th>75%</th>\n",
        "      <td>      10.000000</td>\n",
        "      <td>       6.000000</td>\n",
        "    </tr>\n",
        "    <tr>\n",
        "      <th>max</th>\n",
        "      <td>    1688.000000</td>\n",
        "      <td>    1692.000000</td>\n",
        "    </tr>\n",
        "  </tbody>\n",
        "</table>\n",
        "<p>8 rows \u00d7 2 columns</p>\n",
        "</div>"
       ],
       "metadata": {},
       "output_type": "pyout",
       "prompt_number": 46,
       "text": [
        "             ArrDelay        DepDelay\n",
        "count  5723673.000000  5723673.000000\n",
        "mean         5.528249        8.115272\n",
        "std         31.429291       28.234083\n",
        "min      -1116.000000     -204.000000\n",
        "25%         -9.000000       -3.000000\n",
        "50%         -2.000000        0.000000\n",
        "75%         10.000000        6.000000\n",
        "max       1688.000000     1692.000000\n",
        "\n",
        "[8 rows x 2 columns]"
       ]
      }
     ],
     "prompt_number": 46
    },
    {
     "cell_type": "code",
     "collapsed": false,
     "input": [
      "import pandas as pd\n",
      "\n",
      "#ucs=(14, 15, 3, 4, 6, 1, 8, 9, 16, 17, 18)\n",
      "ucs=(1, 3, 4, 14, 15, 16, 17, 18)\n",
      "\n",
      "cnms = ['month', 'Day', 'dTime', 'aDelay', 'dDelay', 'depart', 'arrive', 'distance']\n",
      "\n",
      "#cnms = ['aDelay', 'dDelay', 'Day', 'dTime', 'aTime', \n",
      "#        'month', 'uc', 'fnum', 'depart', 'arrive', 'distance' ]\n",
      "\n",
      "newdata = pd.read_csv('/notebooks/rppds/data/2001.csv', #dtype=np.float32, \n",
      "                      header=0, na_values=['NA'], usecols=ucs, names = cnms)"
     ],
     "language": "python",
     "metadata": {},
     "outputs": [],
     "prompt_number": 4
    },
    {
     "cell_type": "code",
     "collapsed": false,
     "input": [
      "newdata = newdata.dropna()\n",
      "\n",
      "newdata.describe()"
     ],
     "language": "python",
     "metadata": {},
     "outputs": [
      {
       "html": [
        "<div style=\"max-height:1000px;max-width:1500px;overflow:auto;\">\n",
        "<table border=\"1\" class=\"dataframe\">\n",
        "  <thead>\n",
        "    <tr style=\"text-align: right;\">\n",
        "      <th></th>\n",
        "      <th>month</th>\n",
        "      <th>Day</th>\n",
        "      <th>dTime</th>\n",
        "      <th>aDelay</th>\n",
        "      <th>dDelay</th>\n",
        "      <th>distance</th>\n",
        "    </tr>\n",
        "  </thead>\n",
        "  <tbody>\n",
        "    <tr>\n",
        "      <th>count</th>\n",
        "      <td> 5723673.000000</td>\n",
        "      <td> 5723673.000000</td>\n",
        "      <td> 5723673.000000</td>\n",
        "      <td> 5723673.000000</td>\n",
        "      <td> 5723673.000000</td>\n",
        "      <td> 5723673.000000</td>\n",
        "    </tr>\n",
        "    <tr>\n",
        "      <th>mean</th>\n",
        "      <td>       6.291581</td>\n",
        "      <td>       3.949829</td>\n",
        "      <td>    1348.688044</td>\n",
        "      <td>       5.528249</td>\n",
        "      <td>       8.115272</td>\n",
        "      <td>     735.173682</td>\n",
        "    </tr>\n",
        "    <tr>\n",
        "      <th>std</th>\n",
        "      <td>       3.381755</td>\n",
        "      <td>       1.997942</td>\n",
        "      <td>     482.638757</td>\n",
        "      <td>      31.429291</td>\n",
        "      <td>      28.234083</td>\n",
        "      <td>     574.815182</td>\n",
        "    </tr>\n",
        "    <tr>\n",
        "      <th>min</th>\n",
        "      <td>       1.000000</td>\n",
        "      <td>       1.000000</td>\n",
        "      <td>       1.000000</td>\n",
        "      <td>   -1116.000000</td>\n",
        "      <td>    -204.000000</td>\n",
        "      <td>      21.000000</td>\n",
        "    </tr>\n",
        "    <tr>\n",
        "      <th>25%</th>\n",
        "      <td>       3.000000</td>\n",
        "      <td>       2.000000</td>\n",
        "      <td>     930.000000</td>\n",
        "      <td>      -9.000000</td>\n",
        "      <td>      -3.000000</td>\n",
        "      <td>     314.000000</td>\n",
        "    </tr>\n",
        "    <tr>\n",
        "      <th>50%</th>\n",
        "      <td>       6.000000</td>\n",
        "      <td>       4.000000</td>\n",
        "      <td>    1333.000000</td>\n",
        "      <td>      -2.000000</td>\n",
        "      <td>       0.000000</td>\n",
        "      <td>     575.000000</td>\n",
        "    </tr>\n",
        "    <tr>\n",
        "      <th>75%</th>\n",
        "      <td>       9.000000</td>\n",
        "      <td>       6.000000</td>\n",
        "      <td>    1740.000000</td>\n",
        "      <td>      10.000000</td>\n",
        "      <td>       6.000000</td>\n",
        "      <td>     983.000000</td>\n",
        "    </tr>\n",
        "    <tr>\n",
        "      <th>max</th>\n",
        "      <td>      12.000000</td>\n",
        "      <td>       7.000000</td>\n",
        "      <td>    2400.000000</td>\n",
        "      <td>    1688.000000</td>\n",
        "      <td>    1692.000000</td>\n",
        "      <td>    4962.000000</td>\n",
        "    </tr>\n",
        "  </tbody>\n",
        "</table>\n",
        "<p>8 rows \u00d7 6 columns</p>\n",
        "</div>"
       ],
       "metadata": {},
       "output_type": "pyout",
       "prompt_number": 5,
       "text": [
        "                month             Day           dTime          aDelay  \\\n",
        "count  5723673.000000  5723673.000000  5723673.000000  5723673.000000   \n",
        "mean         6.291581        3.949829     1348.688044        5.528249   \n",
        "std          3.381755        1.997942      482.638757       31.429291   \n",
        "min          1.000000        1.000000        1.000000    -1116.000000   \n",
        "25%          3.000000        2.000000      930.000000       -9.000000   \n",
        "50%          6.000000        4.000000     1333.000000       -2.000000   \n",
        "75%          9.000000        6.000000     1740.000000       10.000000   \n",
        "max         12.000000        7.000000     2400.000000     1688.000000   \n",
        "\n",
        "               dDelay        distance  \n",
        "count  5723673.000000  5723673.000000  \n",
        "mean         8.115272      735.173682  \n",
        "std         28.234083      574.815182  \n",
        "min       -204.000000       21.000000  \n",
        "25%         -3.000000      314.000000  \n",
        "50%          0.000000      575.000000  \n",
        "75%          6.000000      983.000000  \n",
        "max       1692.000000     4962.000000  \n",
        "\n",
        "[8 rows x 6 columns]"
       ]
      }
     ],
     "prompt_number": 5
    },
    {
     "cell_type": "code",
     "collapsed": false,
     "input": [
      "newdata.to_hdf('flights.h5', 'table', append=False)"
     ],
     "language": "python",
     "metadata": {},
     "outputs": [],
     "prompt_number": 6
    },
    {
     "cell_type": "code",
     "collapsed": false,
     "input": [
      "!ls"
     ],
     "language": "python",
     "metadata": {},
     "outputs": [
      {
       "output_type": "stream",
       "stream": "stdout",
       "text": [
        "dataexplore.ipynb  images\t   intro2dp.ipynb\r\n",
        "dataviz.ipynb\t   index.ipynb\t   intro2pandas.ipynb\r\n",
        "flights.h5\t   intro2de.ipynb  Untitled0.ipynb\r\n"
       ]
      }
     ],
     "prompt_number": 7
    },
    {
     "cell_type": "code",
     "collapsed": false,
     "input": [
      "import numpy as np\n",
      "\n",
      "cnms = ['month', 'Day', 'dTime', 'aDelay', 'dDelay', 'depart', 'arrive', 'distance']\n",
      "\n",
      "dts = [np.uint8, np.uint8, np.uint16, np.int16, np.int16, object, object, np.uint16]\n",
      "\n",
      "nd = pd.DataFrame()\n",
      "\n",
      "for i in range(len(cnms)):\n",
      "    nd[[cnms[i]]] = newdata[[cnms[i]]].astype(dts[i])\n"
     ],
     "language": "python",
     "metadata": {},
     "outputs": [],
     "prompt_number": 19
    },
    {
     "cell_type": "code",
     "collapsed": false,
     "input": [
      "nd.describe()"
     ],
     "language": "python",
     "metadata": {},
     "outputs": [
      {
       "html": [
        "<div style=\"max-height:1000px;max-width:1500px;overflow:auto;\">\n",
        "<table border=\"1\" class=\"dataframe\">\n",
        "  <thead>\n",
        "    <tr style=\"text-align: right;\">\n",
        "      <th></th>\n",
        "      <th>month</th>\n",
        "      <th>Day</th>\n",
        "      <th>dTime</th>\n",
        "      <th>aDelay</th>\n",
        "      <th>dDelay</th>\n",
        "      <th>distance</th>\n",
        "    </tr>\n",
        "  </thead>\n",
        "  <tbody>\n",
        "    <tr>\n",
        "      <th>count</th>\n",
        "      <td> 5723673.000000</td>\n",
        "      <td> 5723673.000000</td>\n",
        "      <td> 5723673.000000</td>\n",
        "      <td> 5723673.000000</td>\n",
        "      <td> 5723673.000000</td>\n",
        "      <td> 5723673.000000</td>\n",
        "    </tr>\n",
        "    <tr>\n",
        "      <th>mean</th>\n",
        "      <td>       6.291581</td>\n",
        "      <td>       3.949829</td>\n",
        "      <td>    1348.688044</td>\n",
        "      <td>       5.528249</td>\n",
        "      <td>       8.115272</td>\n",
        "      <td>     735.173682</td>\n",
        "    </tr>\n",
        "    <tr>\n",
        "      <th>std</th>\n",
        "      <td>       3.381755</td>\n",
        "      <td>       1.997942</td>\n",
        "      <td>     482.638757</td>\n",
        "      <td>      31.429291</td>\n",
        "      <td>      28.234083</td>\n",
        "      <td>     574.815182</td>\n",
        "    </tr>\n",
        "    <tr>\n",
        "      <th>min</th>\n",
        "      <td>       1.000000</td>\n",
        "      <td>       1.000000</td>\n",
        "      <td>       1.000000</td>\n",
        "      <td>   -1116.000000</td>\n",
        "      <td>    -204.000000</td>\n",
        "      <td>      21.000000</td>\n",
        "    </tr>\n",
        "    <tr>\n",
        "      <th>25%</th>\n",
        "      <td>       3.000000</td>\n",
        "      <td>       2.000000</td>\n",
        "      <td>     930.000000</td>\n",
        "      <td>      -9.000000</td>\n",
        "      <td>      -3.000000</td>\n",
        "      <td>     314.000000</td>\n",
        "    </tr>\n",
        "    <tr>\n",
        "      <th>50%</th>\n",
        "      <td>       6.000000</td>\n",
        "      <td>       4.000000</td>\n",
        "      <td>    1333.000000</td>\n",
        "      <td>      -2.000000</td>\n",
        "      <td>       0.000000</td>\n",
        "      <td>     575.000000</td>\n",
        "    </tr>\n",
        "    <tr>\n",
        "      <th>75%</th>\n",
        "      <td>       9.000000</td>\n",
        "      <td>       6.000000</td>\n",
        "      <td>    1740.000000</td>\n",
        "      <td>      10.000000</td>\n",
        "      <td>       6.000000</td>\n",
        "      <td>     983.000000</td>\n",
        "    </tr>\n",
        "    <tr>\n",
        "      <th>max</th>\n",
        "      <td>      12.000000</td>\n",
        "      <td>       7.000000</td>\n",
        "      <td>    2400.000000</td>\n",
        "      <td>    1688.000000</td>\n",
        "      <td>    1692.000000</td>\n",
        "      <td>    4962.000000</td>\n",
        "    </tr>\n",
        "  </tbody>\n",
        "</table>\n",
        "<p>8 rows \u00d7 6 columns</p>\n",
        "</div>"
       ],
       "metadata": {},
       "output_type": "pyout",
       "prompt_number": 20,
       "text": [
        "                month             Day           dTime          aDelay  \\\n",
        "count  5723673.000000  5723673.000000  5723673.000000  5723673.000000   \n",
        "mean         6.291581        3.949829     1348.688044        5.528249   \n",
        "std          3.381755        1.997942      482.638757       31.429291   \n",
        "min          1.000000        1.000000        1.000000    -1116.000000   \n",
        "25%          3.000000        2.000000      930.000000       -9.000000   \n",
        "50%          6.000000        4.000000     1333.000000       -2.000000   \n",
        "75%          9.000000        6.000000     1740.000000       10.000000   \n",
        "max         12.000000        7.000000     2400.000000     1688.000000   \n",
        "\n",
        "               dDelay        distance  \n",
        "count  5723673.000000  5723673.000000  \n",
        "mean         8.115272      735.173682  \n",
        "std         28.234083      574.815182  \n",
        "min       -204.000000       21.000000  \n",
        "25%         -3.000000      314.000000  \n",
        "50%          0.000000      575.000000  \n",
        "75%          6.000000      983.000000  \n",
        "max       1692.000000     4962.000000  \n",
        "\n",
        "[8 rows x 6 columns]"
       ]
      }
     ],
     "prompt_number": 20
    },
    {
     "cell_type": "code",
     "collapsed": false,
     "input": [
      "nd.dtypes"
     ],
     "language": "python",
     "metadata": {},
     "outputs": [
      {
       "metadata": {},
       "output_type": "pyout",
       "prompt_number": 21,
       "text": [
        "month        uint8\n",
        "Day          uint8\n",
        "dTime       uint16\n",
        "aDelay       int16\n",
        "dDelay       int16\n",
        "depart      object\n",
        "arrive      object\n",
        "distance    uint16\n",
        "dtype: object"
       ]
      }
     ],
     "prompt_number": 21
    },
    {
     "cell_type": "code",
     "collapsed": false,
     "input": [
      "nd.to_hdf('sflights.h5', 'table', append=False)"
     ],
     "language": "python",
     "metadata": {},
     "outputs": [],
     "prompt_number": 22
    },
    {
     "cell_type": "code",
     "collapsed": false,
     "input": [
      "!ls -la *.h5"
     ],
     "language": "python",
     "metadata": {},
     "outputs": [
      {
       "output_type": "stream",
       "stream": "stdout",
       "text": [
        "-rw-r--r-- 1 1000 staff 378594512 Mar  8 21:28 flights.h5\r\n",
        "-rw-r--r-- 1 1000 staff 161097330 Mar  8 21:52 sflights.h5\r\n"
       ]
      }
     ],
     "prompt_number": 24
    },
    {
     "cell_type": "markdown",
     "metadata": {},
     "source": [
      "## Breakout Session: Data Formats\n",
      "\n",
      "During this session, you should first try out as many examples in this\n",
      "Notebook as you can, which will require a running airport database, which was\n",
      "developed in the [Week 5 Introduction to SQL][w5sql] Notebook. \n",
      "\n",
      "### Intermediate Challenge:\n",
      "\n",
      "Complete the tasks in the notebook to the point you have all valid rows with (at a minimum) the columns: 'month', 'Day', 'dTime', 'aDelay', 'dDelay', and 'depart' included in either a CSV or an HDF5 file for use in the rest of this week's lessons.\n",
      "\n",
      "### Advanced Challenge:\n",
      "\n",
      "Modify the Day of Week and Month columns so that they contain the name of the day or month rather than an integer value. Also, add in a few nore columns that might be useful when performing data mining, like the airline unique code and flight number. Output all of these data in a compact form to an HDF5 file.\n",
      "\n",
      "\n",
      "-----\n",
      "[w5sql]: ../Week5/intro2sql.ipynb"
     ]
    },
    {
     "cell_type": "markdown",
     "metadata": {},
     "source": [
      "### Additional References\n",
      "\n",
      "1. [Pandas v13][1] Documentation\n",
      "\n",
      "-----\n",
      "\n",
      "[1]: http://pandas.pydata.org/pandas-docs/version/0.13.1/io.html#io-hdf5\n"
     ]
    },
    {
     "cell_type": "markdown",
     "metadata": {},
     "source": [
      "### Return to the [Week 7 Index](index.ipynb).\n",
      "\n",
      "-----"
     ]
    }
   ],
   "metadata": {}
  }
 ]
}