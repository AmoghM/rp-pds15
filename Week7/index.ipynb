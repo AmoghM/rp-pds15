{
 "metadata": {
  "name": "",
  "signature": "sha256:5e430f8133e7329f1668976032a1a041d7ae3dae83ddaf67084278997db20653"
 },
 "nbformat": 3,
 "nbformat_minor": 0,
 "worksheets": [
  {
   "cells": [
    {
     "cell_type": "markdown",
     "metadata": {},
     "source": [
      "\n",
      "<DIV ALIGN=CENTER>\n",
      "\n",
      "# Practical Data Science  \n",
      "## University of Illinois, Research Park  \n",
      "## Robert J. Brunner  \n",
      "## Spring 2015  \n",
      "  \n",
      "</DIV>  \n",
      "-----\n",
      "-----"
     ]
    },
    {
     "cell_type": "markdown",
     "metadata": {},
     "source": [
      "## Week 7: Data Exploration\n",
      "\n",
      "This week we will start exploring data by using Python to load, explore, model, and learn with data by using Python. We first will explore issues in working with (relatively) large data sets, before moving on to visually exploring a data set to identify interesting questions that might be addressed by the data. Next, we learn about simple statistical learning by using Python, before exploring different machine learning techniques by using the scikit_learn library.\n",
      "\n",
      "### Topic 1: [Introduction to Data Exporation][1]\n",
      "\n",
      "This Notebook introduces \n",
      "\n",
      "### Topic 2: [Data Exploration][2]\n",
      "\n",
      "This Notebook visually explores a data set, introducing different visualization methods in order to help clarify a data set.\n",
      "\n",
      "### Topic 3: [Data Mining][3]\n",
      "\n",
      "This Notebook introduces the scikit_learn library.\n",
      "\n",
      "\n",
      "-----\n",
      "\n",
      "## Optional Topics\n",
      "\n",
      "### \n",
      "\n",
      "-----\n",
      "\n",
      "[1]: intro2de.ipynb\n",
      "[2]: dataexplore.ipynb\n",
      "[3]: intro2dm.ipynb"
     ]
    }
   ],
   "metadata": {}
  }
 ]
}