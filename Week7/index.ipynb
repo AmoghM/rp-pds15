{
 "metadata": {
  "name": "",
  "signature": "sha256:5e4e5bf783f5d77c451545f5228c5e6b3ae2fd32f5d812a4afc8533624b7b08d"
 },
 "nbformat": 3,
 "nbformat_minor": 0,
 "worksheets": [
  {
   "cells": [
    {
     "cell_type": "markdown",
     "metadata": {},
     "source": [
      "\n",
      "<DIV ALIGN=CENTER>\n",
      "\n",
      "# Practical Data Science  \n",
      "## University of Illinois, Research Park  \n",
      "## Robert J. Brunner  \n",
      "## Spring 2015  \n",
      "  \n",
      "</DIV>  \n",
      "-----\n",
      "-----"
     ]
    },
    {
     "cell_type": "markdown",
     "metadata": {},
     "source": [
      "## Week 7: Data Exploration\n",
      "\n",
      "This week we will start exploring data by using Python to load, explore,\n",
      "model, and learn with data by using Python. We first will explore issues\n",
      "in working with (relatively) large data sets, before moving on to\n",
      "visually exploring a data set to identify interesting questions that\n",
      "might be addressed by the data. Next, we learn about simple statistical\n",
      "learning by using Python, before exploring different machine learning\n",
      "techniques by using the scikit_learn library.\n",
      "\n",
      "### Topic 1: [Introduction to Data Exporation][1]\n",
      "\n",
      "This Notebook introduces the basic tasks required to perform data\n",
      "exploration, including understanding data encoding issues, missing data\n",
      "issues, and the requirements of different data types on performance.\n",
      "\n",
      "### Topic 2: [Data Exploration][2]\n",
      "\n",
      "This Notebook visually explores a data set, introducing different\n",
      "visualization methods in order to help clarify a data set.\n",
      "\n",
      "### Topic 3: [Data Mining][3]\n",
      "\n",
      "This Notebook introduces the scikit_learn library to perform several\n",
      "basic machine learning tasks, including classification, dimensionality\n",
      "reduction and clustering.\n",
      "\n",
      "\n",
      "-----\n",
      "\n",
      "## Optional Topics\n",
      "\n",
      "### \n",
      "\n",
      "-----\n",
      "\n",
      "[1]: intro2de.ipynb\n",
      "[2]: dataexplore.ipynb\n",
      "[3]: intro2dm.ipynb"
     ]
    }
   ],
   "metadata": {}
  }
 ]
}