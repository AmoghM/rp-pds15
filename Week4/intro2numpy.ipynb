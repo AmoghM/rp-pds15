{
 "metadata": {
  "name": "",
  "signature": "sha256:f0439b5a8056068e1c601c3bb4eaab05cd75a42fb4acbe705fcc54207c81dfe5"
 },
 "nbformat": 3,
 "nbformat_minor": 0,
 "worksheets": [
  {
   "cells": [
    {
     "cell_type": "markdown",
     "metadata": {},
     "source": [
      "<DIV ALIGN=CENTER>\n",
      "\n",
      "# Introduction to Numpy\n",
      "## Professor Robert J. Brunner\n",
      "  \n",
      "</DIV>  \n",
      "-----\n",
      "-----"
     ]
    },
    {
     "cell_type": "markdown",
     "metadata": {},
     "source": [
      "## Introduction \n",
      "\n",
      "In this lesson, we build on the foundation provided by the previous two\n",
      "Python lessons to introduce file input/output, using external packages\n",
      "to include new functionality, and to create and apply user-defined\n",
      "functions. When complete, you will be able to read and write Python\n",
      "programs, which we will demonstrate by writing a Python program that we\n",
      "will execute at the Unix command line.\n",
      "\n",
      "-----"
     ]
    },
    {
     "cell_type": "markdown",
     "metadata": {},
     "source": [
      "## Breakout Session: Working wih the Numpy Library\n",
      "\n",
      "During this session, you should  ... \n",
      "\n",
      "-----"
     ]
    },
    {
     "cell_type": "markdown",
     "metadata": {},
     "source": [
      "### Additional References\n",
      "\n",
      "\n",
      "-----"
     ]
    },
    {
     "cell_type": "markdown",
     "metadata": {},
     "source": [
      "### Return to the [Week 4 Index](index.ipynb).\n",
      "\n",
      "-----"
     ]
    }
   ],
   "metadata": {}
  }
 ]
}