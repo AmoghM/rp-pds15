{
 "metadata": {
  "name": "",
  "signature": "sha256:b09e4962e07a458a49a4925cfb7a0a5b0487513b2119ffaafaee45a5299f4685"
 },
 "nbformat": 3,
 "nbformat_minor": 0,
 "worksheets": [
  {
   "cells": [
    {
     "cell_type": "markdown",
     "metadata": {},
     "source": [
      "\n",
      "<DIV ALIGN=CENTER>\n",
      "\n",
      "# Practical Data Science  \n",
      "## University of Illinois, Research Park  \n",
      "## Robert J. Brunner  \n",
      "## Spring 2015  \n",
      "  \n",
      "</DIV>  \n",
      "-----\n",
      "-----"
     ]
    },
    {
     "cell_type": "markdown",
     "metadata": {},
     "source": [
      "## Week 4: Exploring Data Through Visualizations\n",
      " \n",
      "Matplotlib and Numpy\n",
      "\n",
      "### Topic 1: [Introduction to Data Visualizations in Python][1]\n",
      "\n",
      "Matplotlib & Seaborn intro. Use basic Python data structures.\n",
      "\n",
      "### Topic 2: [Introduction to Numpy][2]\n",
      "\n",
      "Learn about the IPython notebook, and how to use it to combine both\n",
      "documentation, code, and code results in a clean, web accesible notebook.\n",
      "\n",
      "### Topic 3: [Advanced Data Visualizations in Python][3]\n",
      "\n",
      "More advanced visualizations.\n",
      "\n",
      "-----\n",
      "\n",
      "## Optional Topics\n",
      "\n",
      "-----\n",
      "\n",
      "[1]: intro2dataviz.ipynb\n",
      "[2]: intro2numpy.ipynb\n",
      "[3]: dataviz.ipynb"
     ]
    }
   ],
   "metadata": {}
  }
 ]
}