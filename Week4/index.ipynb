{
 "metadata": {
  "name": "",
  "signature": "sha256:1de67738eee4a0deef5941513779566e227e4cb59724dd9b6991a3ba60388159"
 },
 "nbformat": 3,
 "nbformat_minor": 0,
 "worksheets": [
  {
   "cells": [
    {
     "cell_type": "markdown",
     "metadata": {},
     "source": [
      "\n",
      "<DIV ALIGN=CENTER>\n",
      "\n",
      "# Practical Data Science  \n",
      "## University of Illinois, Research Park  \n",
      "## Robert J. Brunner  \n",
      "## Spring 2015  \n",
      "  \n",
      "</DIV>  \n",
      "-----\n",
      "-----"
     ]
    },
    {
     "cell_type": "markdown",
     "metadata": {},
     "source": [
      "## Week 4: Exploring Data Through Visualizations\n",
      " \n",
      "Firs, we will introduce more advanced Python programming concepts\n",
      "including file input/output, defining new functions, writing programs\n",
      "that run at the command line, and demonstrate how to create and use a\n",
      "simple Python module. Next, we will introduce the Numpy library that\n",
      "provides fast numerical array and matrix operations in Python programs.\n",
      "Finally, we will introduce basic data visualizations by using the\n",
      "MatPlotLib and Seaborn libraries.\n",
      "\n",
      "### Topic 1: [Advanced Python Concepts][1]\n",
      "\n",
      "Learn how to read and write data to files by using a runtime context.\n",
      "Next, learn about Python packages that can be used to simplify\n",
      "application development, before moving on to a discussion of\n",
      "user-defined functions. Finally, conclude with a discussion of writing a\n",
      "Python program that runs at the Unix command line.\n",
      "\n",
      "### Topic 2: [Introduction to Numpy][2]\n",
      "\n",
      "Learn about the Numpy library that introduces fast numerical\n",
      "multi-dimensional arrays into the Python programming language. \n",
      "\n",
      "### Topic 3: [Introduction to Data Visualizations in Python][3]\n",
      "\n",
      "Learn how to make data visualizations, such as scatter plots,\n",
      "histograms, and box plots by using the Matplotlib and Seaborn Python\n",
      "libraries.\n",
      "\n",
      "\n",
      "-----\n",
      "\n",
      "## Optional Topics\n",
      "\n",
      "-----\n",
      "\n",
      "[1]: advancedpy.ipynb\n",
      "[2]: intro2numpy.ipynb\n",
      "[3]: intro2dataviz.ipynb"
     ]
    }
   ],
   "metadata": {}
  }
 ]
}