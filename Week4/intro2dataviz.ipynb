{
 "metadata": {
  "name": "",
  "signature": "sha256:346d22243e623674a7963b1d3e8c9422b9f42db43b444c65ee942a120ac4c2f2"
 },
 "nbformat": 3,
 "nbformat_minor": 0,
 "worksheets": [
  {
   "cells": [
    {
     "cell_type": "markdown",
     "metadata": {},
     "source": [
      "<DIV ALIGN=CENTER>\n",
      "\n",
      "# Introduction to Data Visualizations\n",
      "## Professor Robert J. Brunner\n",
      "  \n",
      "</DIV>  \n",
      "-----\n",
      "-----"
     ]
    },
    {
     "cell_type": "markdown",
     "metadata": {},
     "source": [
      "## Introduction \n",
      "\n",
      "In this lesson, we build on the foundation provided by the previous two\n",
      "Python lessons to introduce file input/output, using external packages\n",
      "to include new functionality, and to create and apply user-defined\n",
      "functions. When complete, you will be able to read and write Python\n",
      "programs, which we will demonstrate by writing a Python program that we\n",
      "will execute at the Unix command line.\n",
      "\n",
      "My three Notebooks.\n",
      "\n",
      "http://nbviewer.ipython.org/github/jrjohansson/scientific-python-lectures/blob/master/Lecture-4-Matplotlib.ipynb#Other-2D-plot-styles\n",
      "\n",
      "http://nbviewer.ipython.org/github/jakevdp/OsloWorkshop2014/blob/master/notebooks/01.4_MatplotlibSeaborn.ipynb\n",
      "\n",
      "http://stanford.edu/~mwaskom/software/seaborn/tutorial/plotting_distributions.html\n",
      "\n",
      "-----"
     ]
    },
    {
     "cell_type": "markdown",
     "metadata": {},
     "source": [
      "## Breakout Session: Creating Data Visualizations\n",
      "\n",
      "During this session, you should  ... \n",
      "\n",
      "-----"
     ]
    },
    {
     "cell_type": "markdown",
     "metadata": {},
     "source": [
      "### Additional References\n",
      "\n",
      "\n",
      "-----"
     ]
    },
    {
     "cell_type": "markdown",
     "metadata": {},
     "source": [
      "### Return to the [Week 4 Index](index.ipynb).\n",
      "\n",
      "-----"
     ]
    }
   ],
   "metadata": {}
  }
 ]
}