{
 "metadata": {
  "name": "",
  "signature": "sha256:3c6041a8df2e4a3b9e8cfbbc90c65df20e1049c473c4b5230b5287851c8f6168"
 },
 "nbformat": 3,
 "nbformat_minor": 0,
 "worksheets": [
  {
   "cells": [
    {
     "cell_type": "markdown",
     "metadata": {},
     "source": [
      "<DIV ALIGN=CENTER>\n",
      "\n",
      "# Introduction to Data Visualizations\n",
      "## Professor Robert J. Brunner\n",
      "  \n",
      "</DIV>  \n",
      "-----\n",
      "-----"
     ]
    },
    {
     "cell_type": "markdown",
     "metadata": {},
     "source": [
      "## Introduction \n",
      "\n",
      "In this lesson, we build on the foundation provided by the previous two\n",
      "Python lessons to introduce file input/output, using external packages\n",
      "to include new functionality, and to create and apply user-defined\n",
      "functions. When complete, you will be able to read and write Python\n",
      "programs, which we will demonstrate by writing a Python program that we\n",
      "will execute at the Unix command line.\n",
      "\n",
      "-----"
     ]
    },
    {
     "cell_type": "markdown",
     "metadata": {},
     "source": [
      "## Breakout Session: Creating Data Visualizations\n",
      "\n",
      "During this session, you should  ... \n",
      "\n",
      "-----"
     ]
    },
    {
     "cell_type": "markdown",
     "metadata": {},
     "source": [
      "### Additional References\n",
      "\n",
      "\n",
      "-----"
     ]
    },
    {
     "cell_type": "markdown",
     "metadata": {},
     "source": [
      "### Return to the [Week 4 Index](index.ipynb).\n",
      "\n",
      "-----"
     ]
    }
   ],
   "metadata": {}
  }
 ]
}