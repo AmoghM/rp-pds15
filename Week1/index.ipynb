{
 "metadata": {
  "name": "",
  "signature": "sha256:016836d1ee9af9541fa9dcc7af62135d9e0141490c3864390697cf68da366324"
 },
 "nbformat": 3,
 "nbformat_minor": 0,
 "worksheets": [
  {
   "cells": [
    {
     "cell_type": "markdown",
     "metadata": {},
     "source": [
      "\n",
      "<DIV ALIGN=CENTER>\n",
      "\n",
      "# Practical Data Scence  \n",
      "## University of Illinois, Research Park  \n",
      "## Robert J. Brunner  \n",
      "## Spring 2015  \n",
      "  \n",
      "</DIV>  \n",
      "-----\n",
      "-----"
     ]
    },
    {
     "cell_type": "markdown",
     "metadata": {},
     "source": [
      "## Course [Introduction][i]:\n",
      "\n",
      "Week one starts with an introduction to the overall course, the planned syllabus, and the use of our course Piazza.\n",
      "\n",
      "-----\n",
      "\n",
      "## Week 1: Data Science at the Command Line:  \n",
      " \n",
      "Use the Docker technology by working at the Unix command prompt within\n",
      "the course Docker container in interactive mode. This will focus on\n",
      "using Unix command line tools and techniques to work with data in the\n",
      "BASH shell\n",
      "\n",
      "### Topic 1: [Virtulization and Docker Technology][1]\n",
      "\n",
      "Learn about virtualization, and how to use the Docker container technology to complete this course.\n",
      "\n",
      "### Topic 2: [Introduction to Unix][2]\n",
      "\n",
      "Learn about the Unix operating system, the Bash shell, and the basics of the Unix filesystem and process model.\n",
      "\n",
      "### Topic 3: [Unix Networking][3]\n",
      "\n",
      "Learn about basic Unix networking commands, including how to grab internet accesible resources.\n",
      "\n",
      "### Topic 4: [Unix Data Processing][4]\n",
      "\n",
      "Learn how to use Unix commands to perform basic data processing, including selection, modification, or transofrmation of specific data from an existing file.\n",
      "\n",
      "### Topic 5: [Source Code Control][5]\n",
      "\n",
      "Learn about source code control, and how to use git and github to manage software development.\n",
      "\n",
      "-----\n",
      "\n",
      "### Optional Topics\n",
      "\n",
      "#### Topic 6: Shell Scripting\n",
      "\n",
      "- Linux based [Bash tutorial](http://linuxconfig.org/bash-scripting-tutorial)\n",
      "- General [Bash tutorial](http://www.hypexr.org/bash_tutorial.php)\n",
      "\n",
      "#### Topic 7: Using the VIM editor\n",
      "\n",
      "- Interactive [vim Tutorial](http://www.openvim.com/tutorial.html)\n",
      "- Linux based [vim tutorial](http://linuxconfig.org/vim-tutorial)\n",
      "\n",
      "-----\n",
      "\n",
      "[i]: introduction.ipynb\n",
      "[1]: virtualization.ipynb\n",
      "[2]: introduction2Unix.ipynb\n",
      "[3]: unixnetwork.ipynb\n",
      "[4]: unixdp.ipynb\n",
      "[5]: intro2github.ipynb"
     ]
    }
   ],
   "metadata": {}
  }
 ]
}
