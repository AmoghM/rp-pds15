{
 "metadata": {
  "name": "",
  "signature": "sha256:796b8b17de640057e7eb1e45c967e92f00b69661b681da06f27563a00962729c"
 },
 "nbformat": 3,
 "nbformat_minor": 0,
 "worksheets": [
  {
   "cells": [
    {
     "cell_type": "markdown",
     "metadata": {},
     "source": [
      "\n",
      "<DIV ALIGN=CENTER>\n",
      "\n",
      "# Practical Data Science  \n",
      "## University of Illinois, Research Park  \n",
      "## Robert J. Brunner  \n",
      "## Spring 2015  \n",
      "  \n",
      "</DIV>  \n",
      "-----\n",
      "-----"
     ]
    },
    {
     "cell_type": "markdown",
     "metadata": {},
     "source": [
      "## Week 1: Introduction to Practical Data Science\n",
      " \n",
      "### Topic 1: [Course Introduction][1]:\n",
      "\n",
      "Week one starts with an introduction to the overall course, the planned\n",
      "syllabus, and the use of our course Piazza.\n",
      "\n",
      "### Topic 2: [Virtualization and Docker Technology][2]\n",
      "\n",
      "Learn about virtualization, and how to use the Docker container\n",
      "technology to complete this course.\n",
      "\n",
      "### Topic 3: [Source Code Control][3]\n",
      "\n",
      "Learn about source code control, and how to use `git` and _github_ to manage software development.\n",
      "\n",
      "-----\n",
      "\n",
      "## Optional Topics\n",
      "\n",
      "\n",
      "### Topic 4: Using the `vim` editor\n",
      "\n",
      "- Interactive [`vim` Tutorial](http://www.openvim.com/tutorial.html)\n",
      "- Linux based [`vim` tutorial](http://linuxconfig.org/vim-tutorial)\n",
      "\n",
      "-----\n",
      "\n",
      "[1]: introduction.ipynb\n",
      "[2]: virtualization.ipynb\n",
      "[3]: intro2github.ipynb"
     ]
    }
   ],
   "metadata": {}
  }
 ]
}