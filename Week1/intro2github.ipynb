{
 "metadata": {
  "name": "",
  "signature": "sha256:68f71ed60245172aba79787013af78929c813e97a78414fabfeb3be921edfc18"
 },
 "nbformat": 3,
 "nbformat_minor": 0,
 "worksheets": [
  {
   "cells": [
    {
     "cell_type": "markdown",
     "metadata": {},
     "source": [
      "<DIV ALIGN=CENTER>\n",
      "\n",
      "# Source Code Version Control    \n",
      "## Professor Robert J. Brunner\n",
      "  \n",
      "</DIV>  \n",
      "-----\n",
      "-----"
     ]
    },
    {
     "cell_type": "markdown",
     "metadata": {},
     "source": [
      "## Source Code Version Control\n",
      "\n",
      "Wehtehr you are writing a document or developing a computer program, eventually you will find a nmeed for version control (or [revision control](https://en.wikipedia.org/wiki/Revision_control). In standard document editing software this is provided by the Undo feature, but we often want s more powerful solution to version control that allows:\"\n",
      "\n",
      "- Multiple users to work simulataneously\n",
      "- Document who made a change and why\n",
      "- Allow for recoevery to a specific savepoint\n",
      "- Allow for remote backup and recovery\n",
      "\n",
      "Version control software has existed to provide one or more of these features for many years. Currently, one of the more popular version control sofwate tools is `git`, in large part becuase of the popular github online repoitory that uses the git tool to provide an easy version control tool for open source software development.\n",
      "\n",
      "In this lesson, we will learn how to use git and github for source code version control.\n",
      "\n",
      "-----"
     ]
    },
    {
     "cell_type": "markdown",
     "metadata": {},
     "source": [
      "![PHD Comics version control](images/phdcomics.gif)"
     ]
    },
    {
     "cell_type": "code",
     "collapsed": false,
     "input": [
      "# Uncomment to live browse the PHD Comics site.\n",
      "# from IPython.display import HTML\n",
      "# HTML('<iframe src=http://www.phdcomics.com/comics/archive.php?comicid=1531 width=800 height=800></iframe>')"
     ],
     "language": "python",
     "metadata": {},
     "outputs": [],
     "prompt_number": 12
    },
    {
     "cell_type": "markdown",
     "metadata": {},
     "source": [
      "## Git\n",
      "\n",
      "[Git](http://git-scm.com) is a popular, free, open source version control software tool. Git can support fully distributed projects, by using a shared server.\n",
      "\n",
      "![Git Website Note](images/git-website.png)\n",
      "\n",
      "In this course, we will predominantly use git as the command line means to acces source code repositories hosted on Github (such as these course notes).\n",
      "\n",
      "-----"
     ]
    },
    {
     "cell_type": "code",
     "collapsed": false,
     "input": [
      "# We could uncomment to display and live browse the git website\n",
      "# from IPython.display import HTML\n",
      "# HTML('<iframe src=http://git-scm.com width=800 height=500></iframe>')"
     ],
     "language": "python",
     "metadata": {},
     "outputs": [],
     "prompt_number": 11
    },
    {
     "cell_type": "markdown",
     "metadata": {},
     "source": [
      "## Install & Configure git\n",
      "\n",
      "We can install and setup git in our Docker container:\n",
      "1. Start a new Docker container with `$ docker run -it lcdm/rppds /bin/bash`\n",
      "2. Test to see if git is already installed by entering `git` at the container prompt.  \n",
      "2.1. Git should be installed in the container so you should see the `git` usage displayed.   \n",
      "2.2. If git is not installed, you can easily [download]() and install `git`.  \n",
      "3. Once `git` is instaled, we need to set several configuration parameters   \n",
      "3.1. We must specify our name: `git config --global user.name \"Your Name Here\"`  \n",
      "3.2. We must specify our email: `git config --global user.email \"Your Email Here\"`  \n",
      "3.3. We might need to define a proxy (e.g., http) to use a distributed git reporistory.  \n",
      "3.4. We could set a number of other options, including colorization or default editor (e.g., vim).  \n",
      " \n",
      "![Git Configure](images/git-config.png)\n",
      "\n",
      "-----"
     ]
    },
    {
     "cell_type": "markdown",
     "metadata": {},
     "source": [
      "## Create a git Repository\n",
      "\n",
      "Once `git` is installed and configured, we can create a new repository. In this example, we will create a new directory, and add a single file. but you can take an existing set of files and directories and transofmr them into a `git` repository by following the same stpes.\n",
      "\n",
      "First, we will create a new directory, called `project`:\n",
      "\n",
      "    /notebooks# mkdir projects\n",
      "\n",
      "Second, change into this new directory and create a single file called `plan`. We can write some placeholder text in this file by using the `echo` command (alternatively we could use an editor like vim).\n",
      "\n",
      "    /notebooks# cd projects\n",
      "\n",
      "At this point, we have a project directory. We can create a repository for this file by using the `git init` comand:\n",
      "\n",
      "    /notebooks# git init\n",
      "     \n",
      "![Git Init](images/git-init.png)\n",
      "\n",
      "Notice how in the new directory listing, we have a new sub-directory called `.git`. This sub-directory contains the tracking information for this project; deleting this directory will remove the entire project history.\n",
      "\n",
      "-----"
     ]
    },
    {
     "cell_type": "markdown",
     "metadata": {},
     "source": [
      "## Modifying a git repository\n",
      "\n",
      "Now that our repository is initialized, we can add a file to track. First, we create a file called `plan`. We write placeholder text into this file by using the `echo` command (alternatively we could use an editor like vim).\n",
      "\n",
      "    /notebooks# echo \"Todo: Write the great American novel!\" > plan\n",
      "\n",
      "At this point, we have a project directory containing one file. We can always track the status of our repository by using the `git status` comand:\n",
      "\n",
      "    /notebooks# git status\n",
      "\n",
      "The output of this command states that there is an untracked file in our project directory. To have git track this file, we need to `add` it to the repostiory, which we do with the `git add` command:\n",
      "\n",
      "    /notebooks# git add plan\n",
      "\n",
      "![Git Add](images/git-add.png)\n",
      "\n",
      "At this point we have a repository with one file.\n",
      "\n",
      "-----"
     ]
    },
    {
     "cell_type": "markdown",
     "metadata": {},
     "source": [
      "## Committing a git repository\n",
      "\n",
      "If we check the status of our git repository at this point, we see that we have uncommited changes. To save the current state of the repository, we use the `git commit` command. When making a commit, we are given the option of writing detailed comments on what changes are being made. This forms an important history, and allows you, or other members of your team to understand what was changed and why at some later date.\n",
      "\n",
      "The commit message can be directly specified on the command line by using the `-m` flag, which is fine for short messages.\n",
      "\n",
      "    /notebooks# git commit -m\"Added new life plan.\"\n",
      "\n",
      "We can now check the status of our git repository by issuing a new `git status` command.\n",
      "\n",
      "![Git Commit](images/git-commit.png)\n",
      "\n",
      "Our repository is now up-to-date.\n",
      "\n",
      "-----"
     ]
    },
    {
     "cell_type": "markdown",
     "metadata": {},
     "source": [
      "## Breakout Session: Git\n",
      "\n",
      "During this session, you should open a new Docker container and create a new, local git repository. You should first configure git with your credentials, and make a project with one or more files.\n",
      "\n",
      "Your goal should be to understand the basics of working with a local git repository.\n",
      "\n",
      "-----\n",
      "\n",
      "(Novice) You can always use the online [trygit](https://try.github.io/levels/1/challenges/1) website to review these concepts.\n",
      "\n",
      "-----"
     ]
    },
    {
     "cell_type": "markdown",
     "metadata": {},
     "source": [
      "## Distributed Repositories\n",
      "\n",
      "So far we have only worked with a local repository. This can be useful to provide version control for individuals, or on a shared server. But the real power of git arises when you work on a distributed server. We will not cover setting up and using a general distributed git server in this course. Instead, we will use the online [github site](https://github.com).\n",
      "\n",
      "![Github website](images/github-website.png)\n",
      "\n",
      "-----"
     ]
    },
    {
     "cell_type": "code",
     "collapsed": false,
     "input": [
      "# Uncomment to live browse the PHD Comics site.\n",
      "# from IPython.display import HTML\n",
      "# HTML('<iframe src=https://github.com/ProfessorBrunner width=800 height=800></iframe>')"
     ],
     "language": "python",
     "metadata": {},
     "outputs": [],
     "prompt_number": 14
    },
    {
     "cell_type": "markdown",
     "metadata": {},
     "source": [
      "## Using github\n",
      "\n",
      "To use github, you need a working git installation, and you need to choose and set a proxy method since you will need to repeatedly [authenticate](https://help.github.com/articles/set-up-git/#next-steps-authenticating-with-github-from-git) to github. [Connecting over HTTPS](https://help.github.com/articles/which-remote-url-should-i-use#cloning-with-https-recommended) is recommended and is the easiest to setup, so for now we will use this method.\n",
      "\n",
      "The [general instructions](https://help.github.com/articles/caching-your-github-password-in-git/#platform-linux) for caching your github password in git are located on the github website. In our case, we can simply set two additional configuration parameters:\n",
      "\n",
      "    /notebooks# git config --global credential.helper cache\n",
      "    /notebooks# git config --global credential.helpe 'cache --timeout=3600'\n",
      "\n",
      "Now we can clone an xisting repository on github into our local repository. Note that if we do this by using the github web interface, this process is known as forking.\n",
      "\n",
      "![Git CLone](images/git-clone.png)\n",
      "\n",
      "### Warning: Do not upload sensitive information to github!\n",
      "\n",
      "-----"
     ]
    },
    {
     "cell_type": "markdown",
     "metadata": {},
     "source": [
      "## Breakout Session: Github\n",
      "\n",
      "During this session, you should use your git-configured Docker container to grab the course git repository\n",
      "\n",
      "(Advanced) You can view the coruse repository and post a new issue to github.\n",
      "\n",
      "-----"
     ]
    },
    {
     "cell_type": "markdown",
     "metadata": {},
     "source": [
      "### Additional References\n",
      "\n",
      "1. The [git tutorial](http://git-scm.com/book/en/v1/Getting-Started)\n",
      "2. [Try out git](https://try.github.io/levels/1/challenges/1) online.\n",
      "3. How to [setup github](https://help.github.com/articles/set-up-git/).\n",
      "\n",
      "-----"
     ]
    },
    {
     "cell_type": "markdown",
     "metadata": {},
     "source": [
      "### Return to the [Week 1 Index](index.ipynb) page.\n",
      "\n",
      "-----"
     ]
    }
   ],
   "metadata": {}
  }
 ]
}