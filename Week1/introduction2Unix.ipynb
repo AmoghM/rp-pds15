{
 "metadata": {
  "name": "",
  "signature": "sha256:9d4432d7902025c619eaffa1db9db16ec9401d959b5029322f1af40b893e16c7"
 },
 "nbformat": 3,
 "nbformat_minor": 0,
 "worksheets": [
  {
   "cells": [
    {
     "cell_type": "markdown",
     "metadata": {},
     "source": [
      "Display html page for Unix filesystem\n",
      "\n",
      "\n",
      "http://en.wikipedia.org/wiki/Unix_filesystem\n",
      "    \n",
      "    http://en.wikipedia.org/wiki/Pipeline_(Unix)\n",
      "        \n",
      "        http://en.wikipedia.org/wiki/Redirection_(computing)\n",
      "            \n",
      "            http://en.wikipedia.org/wiki/Bash_(Unix_shell)"
     ]
    }
   ],
   "metadata": {}
  }
 ]
}