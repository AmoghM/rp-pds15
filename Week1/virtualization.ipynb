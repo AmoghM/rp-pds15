{
 "metadata": {
  "name": "virtualization"
 },
 "nbformat": 3,
 "nbformat_minor": 0,
 "worksheets": [
  {
   "cells": [
    {
     "cell_type": "markdown",
     "metadata": {},
     "source": "## Virtualization & Docker    \n### Professor Robert J. Brunner"
    },
    {
     "cell_type": "markdown",
     "metadata": {},
     "source": "## Virtualization Overview\n\nVirtualization technology is used to simplify the development, deployment, and management of applications.  \n\nVirtualization can take differentroutes, two of the more popular options are\n\n1. Virtual Machines\n2. Virtual Containers\n\n-----\n"
    },
    {
     "cell_type": "markdown",
     "metadata": {},
     "source": "### Virtual Machines\n\n- full operating system\n- control complete environment\n- isolation\n- slow to boot\n- heavyweight\n\n-----"
    },
    {
     "cell_type": "code",
     "collapsed": false,
     "input": "from IPython.display import HTML\nHTML('<iframe src=https://www.virtualbox.org width=800 height=400></iframe>')",
     "language": "python",
     "metadata": {},
     "outputs": [
      {
       "html": "<iframe src=https://www.virtualbox.org width=800 height=400></iframe>",
       "metadata": {},
       "output_type": "pyout",
       "prompt_number": 9,
       "text": "<IPython.core.display.HTML at 0x7f15f21a4978>"
      }
     ],
     "prompt_number": 9
    },
    {
     "cell_type": "markdown",
     "metadata": {},
     "source": "### Virtual Container\n\n- shared operating system (Linux Containers)\n- Mac OSX/Windows require a Linux host OS (VM)\n- multiple containers from same image\n- lightweight\n- fast startup\n\n-----"
    },
    {
     "cell_type": "markdown",
     "metadata": {},
     "source": "Review [Docker Virtualization](https://www.docker.com/whatisdocker) to see differences between Virtual Machines and Docker\n\n-----"
    },
    {
     "cell_type": "markdown",
     "metadata": {},
     "source": "### Boot2Docker\n\nMac OSX/Windows systems require a Linux Guest Operating System, this is provided by Boot2Docker:\n\n- A VirtualBox installation\n- An Ubuntu Guest OS\n- The Boot2Docker application\n\n![Boot2Docker Application](images/boot2docker.png)\n\n-----"
    },
    {
     "cell_type": "markdown",
     "metadata": {},
     "source": "### Boot2Docker Shell\n\nA Mac OSX Boot2Docker shell: ![B2D Shell](~images/b2d-shell.png)\n\n-----\n"
    },
    {
     "cell_type": "markdown",
     "metadata": {},
     "source": "### Docker Commands\n\nEntering docker at the shell prompt: ![Docker Commands](~images/docker-commands.png)\n\n-----\n"
    },
    {
     "cell_type": "markdown",
     "metadata": {},
     "source": "### Docker Shell\n\nThe Docker shell: ![Docker Shell](~images/docker-shell.png)\n\n-----\n"
    },
    {
     "cell_type": "markdown",
     "metadata": {},
     "source": "-----\n\n## Breakout Session\n\nHow many have succesfully installed the Docker Engine and the course Docker container?\n\n----\n\nThose with succesful installations should [try out](https://www.docker.com/tryit/) docker online.\n\n-----\n\nEveryone should get to the Docker Shell.\n\n-----"
    },
    {
     "cell_type": "code",
     "collapsed": false,
     "input": "",
     "language": "python",
     "metadata": {},
     "outputs": []
    }
   ],
   "metadata": {}
  }
 ]
}