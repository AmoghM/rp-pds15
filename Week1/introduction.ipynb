{
 "metadata": {
  "name": "",
  "signature": "sha256:91ab9375787290a01bfed626251c3b0482ea49d588eecb9389e1a14c52628422"
 },
 "nbformat": 3,
 "nbformat_minor": 0,
 "worksheets": [
  {
   "cells": [
    {
     "cell_type": "markdown",
     "metadata": {},
     "source": [
      "<DIV ALIGN=CENTER>\n",
      "\n",
      "# Practical Data Scence\n",
      "## University of Illinois, Research Park\n",
      "## Robert J. Brunner\n",
      "## Spring 2015\n",
      "\n",
      "</DIV>  \n",
      "-----\n",
      "-----\n",
      "## Overview\n",
      "\n",
      "- Introductions\n",
      "- Course Overview\n",
      "- Introduction to Piazza\n",
      "- Week One Overview"
     ]
    },
    {
     "cell_type": "code",
     "collapsed": false,
     "input": [],
     "language": "python",
     "metadata": {},
     "outputs": [],
     "prompt_number": 0
    },
    {
     "cell_type": "code",
     "collapsed": false,
     "input": [],
     "language": "python",
     "metadata": {},
     "outputs": []
    }
   ],
   "metadata": {}
  }
 ]
}