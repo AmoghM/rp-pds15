{
 "metadata": {
  "name": "introduction",
  "signature": "sha256:91ab9375787290a01bfed626251c3b0482ea49d588eecb9389e1a14c52628422"
 },
 "nbformat": 3,
 "nbformat_minor": 0,
 "worksheets": [
  {
   "cells": [
    {
     "cell_type": "code",
     "collapsed": false,
     "input": "# Global Imports\nfrom IPython.display import HTML, Image",
     "language": "python",
     "metadata": {},
     "outputs": [],
     "prompt_number": 1
    },
    {
     "cell_type": "markdown",
     "metadata": {},
     "source": "<DIV ALIGN=CENTER>\n\n# Practical Data Scence\n## University of Illinois, Research Park\n## Robert J. Brunner\n## Spring 2015\n\n</DIV>  \n-----\n-----\n## Overview\n\n- ### Introduction\n- ### Course Overview\n- ### Introduction to Piazza\n- ### Week One Overview\n\n-----\n"
    },
    {
     "cell_type": "markdown",
     "metadata": {},
     "source": "## Introduction\n\n### Professor[Robert J. Brunner](http://www.astro.illinois.edu/people/bigdog)  \n### University of Illinois  \n### ![University Picture of Professor Brunner](http://lcdm.astro.illinois.edu/images/bigdog.png)\n\n-----"
    },
    {
     "cell_type": "markdown",
     "metadata": {},
     "source": "## Course Overview\n\nA Practical Introduction to Data Science, specifically focusing on the tools and techniques that are the foundation of more advanced techniques that scale to big data.\n\nAll course material is freely avilable [online](https://github.com/ProfessorBrunner/rp-pds15). You will learn how to access the course material later in this lesson.\n\n-----\n\n### Policies\n\n#### Respect\n\nIn this course, I expect you to be professional with the instructor, your fellow classmates, and the research park staff. \n\n#### Interactive\n\nI also expect this course to be interactive, you will learn best by doing. Thus, I will introduce concepts, techniques, or tools, and you will try them out in a breakout session. Thus it is important to complete any technology requirements ahead of time to the extent possible.\n\n#### Assignments\n\nTo reinforce material, you will be givn short assignments to work on during breakoput sessions. You can work on this individually, or in pairs. You also can work on assignments after class, and use the Piazza to communicate with the rest of the class. Later in this lesson you will have a time to find prospective partners.\n\n#### Communication\n\nI will use the course Piazza to communicate with the full class outside of our normal meeting times. You also can post questions about the course content or about data science in general, and you should also feel free to add your answer or point of view to existing questions on the Piazza from other students.\n\n----"
    },
    {
     "cell_type": "markdown",
     "metadata": {},
     "source": "## Big Data\n\nHow do we define Big Data?\n\n-----\n"
    },
    {
     "cell_type": "code",
     "collapsed": false,
     "input": "\nHTML('<iframe src=http://en.wikipedia.org/wiki/Big_data?useformat=mobile width=800 height=600></iframe>')\n",
     "language": "python",
     "metadata": {},
     "outputs": [
      {
       "html": "<iframe src=http://en.wikipedia.org/wiki/Big_data?useformat=mobile width=800 height=600></iframe>",
       "metadata": {},
       "output_type": "pyout",
       "prompt_number": 4,
       "text": "<IPython.core.display.HTML at 0x7fe38c0a11d0>"
      }
     ],
     "prompt_number": 4
    },
    {
     "cell_type": "markdown",
     "metadata": {},
     "source": "-----\n\n## Course Syllabus\n\n### Orientation Week :  \n \nInstall the [Docker Engine](Week0/Docker.md) and the Docker container\nbuilt for this _Practical Data Science_ course. You also should visit\nthe course Piazza.\n\n### Week 1: Data Science at the Command Line:  \n \nUse the Docker technology by working at the Unix command prompt within\nthe course Docker container in interactive mode. This will focus on\nusing Unix command line tools and techniques to work with data in the\nBASH shell\n\n### Week 2: Practical IPython:  \n\nLearn how to use the IPython notebook by using the course Docker\ncontainer in server mode. Also learn basic Python programming, python\ndata types, and file I/O, before finishing with a quick overview of the\nnumpy and scipy libraries.\n\n### Week 3: Exploring Data Through Visualizations:  \n \nLearn how to make data visualization by using Python, primarily from\nwithin the IPython notebook by using matplotlib and seaborn. This will\ninclude a discussion of scatter plots, linear regression and plotting,\nhistograms, box plots, and other advanced visualization concepts.\n\n### Week 4: Using Python DataFrames (Pandas):  \n\nLearn about the _Data Frame_ concept and how to use it within Python by\nusing the Pandas library. This will include ways to load and work with\nlarge tabular data, and to performa basic data operations like cleaning,\ntransforming, merging, and reshaping.\n\n### Week 5: Using Databases:  \n\nLearn about database technology, before specifically focusing on\nrelational database management systems. This will include learning how\nto create database, and SQL DDL and DML to create, insert, update and\ndelete data. This will conclude with a discussion of accessing a\ndatabase from Python.\n\n### Week 6: Data Acquisition:  \n\nLearn about acquiring data from diverse sources including webpages,\nonline repositories, and social media. This will require a discussion of\nweb scraping, DOM tress, and JSON.\n\n### Week 7: Statistical & Machine Learning:  \n \nReview basic statistics and probability and learn how to compute\ndifferent random distributions  by using numpy and scipy routines. Next,\nlearn about machine learning and basic approaches to perform machine\nlearning by using the scikit_learn library in Python.\n\n### Week 8: Data Intensive Computing:  \n\nLearn about basic concepts in high performance computing and how to\nperform them in Python. Next, learn about cloud computing, including how\nDocker technology integrates into commercial clouds. Finally, a\ndiscussion of the standard Hadoop platform and its capabilities.\n\n----\n"
    },
    {
     "cell_type": "code",
     "collapsed": false,
     "input": "HTML('<iframe src=http://piazza.com/university_of_illinois_research_park/spring2015/rp100/home width=800 height=600></iframe>') \n    ",
     "language": "python",
     "metadata": {},
     "outputs": [
      {
       "html": "<iframe src=http://piazza.com/university_of_illinois_research_park/spring2015/rp100/home width=800 height=600></iframe>",
       "metadata": {},
       "output_type": "pyout",
       "prompt_number": 12,
       "text": "<IPython.core.display.HTML at 0x7fc7ef924860>"
      }
     ],
     "prompt_number": 12
    },
    {
     "cell_type": "markdown",
     "metadata": {},
     "source": "-----\n\n## Breakout Session\n\nIntroduce yourself to your fellow students by making a post in the general folder of the course Piazza. \n\nSuggestions for items to include in your post:\n\n- Your full name\n- Any nickname you prefer to use\n- The company for which you work\n- What you hope to get out of this course\n- Any big data experience that you would like to share\n- Your connection to the Unviersity of Illinois\n\nYou also can use this session to find a partner for working on the course assignments.\n\n-----"
    },
    {
     "cell_type": "markdown",
     "metadata": {},
     "source": "## Week 1: Data Science at the Command Line:  \n \nUse the Docker technology by working at the Unix command prompt within\nthe course Docker container in interactive mode. This will focus on\nusing Unix command line tools and techniques to work with data in the\nBASH shell\n\n### Topic 1: Virtulization and Docker Technology\n\nWhy are we using Docker.\n\nMake sue everyone has Docker container running and can run it interactively.\n\nIf some are struggling we can have those that are done take the docker ten minute online intro.\n\n### Topic 2: Introduction to Unix \n\nWhere does Unix approach fit in?\nProcesses, pipes, inputoutput/error? Basic shell work?\n\nFile System\n\nDirectory structure\ncd, mkdir, rmdir, touch ls, pwd, pushd/popd\n\n### Topic 3: Unix Networking\n\nssh, scp, wget, ifconfig? ping\n\nBreakout: grab course data file?\n\n### Topic 4: Unix Data Processing\n\ncat, head, tail, wc, uniq, sort\ngrep, sed, awk, paste?, join?\nand perhaps some basic shell programming\n\n### Topic 5: Source Code Control\n\nGit & Github\n\n### Topic 6: Shell Scripting\n\nBasic Shell scripting (Time permitting)\n\n----\n"
    }
   ],
   "metadata": {}
  }
 ]
}