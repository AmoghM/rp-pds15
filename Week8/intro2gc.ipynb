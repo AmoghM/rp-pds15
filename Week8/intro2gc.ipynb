{
 "metadata": {
  "name": "",
  "signature": "sha256:1e91089bfc716724e3c73d75053e7a630f4aafd5e174f5b135e5f1f37e9779e9"
 },
 "nbformat": 3,
 "nbformat_minor": 0,
 "worksheets": [
  {
   "cells": [
    {
     "cell_type": "markdown",
     "metadata": {},
     "source": [
      "<DIV ALIGN=CENTER>\n",
      "\n",
      "# Introduction to Cloud Computing\n",
      "## Professor Robert J. Brunner\n",
      "  \n",
      "</DIV>  \n",
      "-----\n",
      "-----"
     ]
    },
    {
     "cell_type": "markdown",
     "metadata": {},
     "source": [
      "\n",
      "## Introduction\n",
      "\n",
      "We will learn how to use Google Compute Engine to run our class docker container and the course IPython Notebooks.\n",
      "\n",
      "-----\n"
     ]
    },
    {
     "cell_type": "markdown",
     "metadata": {},
     "source": [
      "-----\n",
      "\n",
      "## Breakout Session: \n",
      "\n",
      "During this session, you should use your google cloud docker container to connect to your running instance.\n",
      "\n",
      "### Intermediate Challenge:\n",
      "\n",
      "Connect to my google docker container and run things.\n",
      "\n",
      "### Advanced Challenge:\n",
      "\n",
      "Connect to your instance. Git clone repository. Fire up the notebook server and run things remotely.\n",
      "\n",
      "\n",
      "\n",
      "-----"
     ]
    },
    {
     "cell_type": "markdown",
     "metadata": {},
     "source": [
      "### Additional References\n",
      "\n",
      "-----"
     ]
    },
    {
     "cell_type": "markdown",
     "metadata": {},
     "source": [
      "### Return to the [Week 8 Index](index.ipynb).\n",
      "\n",
      "-----"
     ]
    }
   ],
   "metadata": {}
  }
 ]
}