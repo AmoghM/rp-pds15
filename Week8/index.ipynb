{
 "metadata": {
  "name": "",
  "signature": "sha256:4a2e90e842a00efdc1ea64bc692c501ef70d0f790e1c2f096ef13cc62f6a687e"
 },
 "nbformat": 3,
 "nbformat_minor": 0,
 "worksheets": [
  {
   "cells": [
    {
     "cell_type": "markdown",
     "metadata": {},
     "source": [
      "\n",
      "<DIV ALIGN=CENTER>\n",
      "\n",
      "# Practical Data Science  \n",
      "## University of Illinois, Research Park  \n",
      "## Robert J. Brunner  \n",
      "## Spring 2015  \n",
      "  \n",
      "</DIV>  \n",
      "-----\n",
      "-----"
     ]
    },
    {
     "cell_type": "markdown",
     "metadata": {},
     "source": [
      "## Week 8: Data Intensive Computing\n",
      "\n",
      "This week we will introduce the topic of data intensive computing. First\n",
      "we review some basic and advanced Docker commands and concepts to\n",
      "minimize future issues to due resource exhaustion. Second, we introduce\n",
      "Hadoop and a self-contained Hadoop Docker container that we can use to\n",
      "run a Hadoop streaming task. Finally we introduce Google Compute Engine\n",
      "and demonstrate how to build a virtual machine that can remotely host\n",
      "our course IPython Notebook server.\n",
      "=\n",
      "### Topic 1: [Preface: Docker Technology Review][1]\n",
      "\n",
      "This Notebook reviews the basic Docker concepts before exploring more\n",
      "advanced usages of Docker along with some useful Docker commands that we\n",
      "have not yet covered.\n",
      "\n",
      "### Topic 2: [Introduction to Hadoop][2]\n",
      "\n",
      "This Notebook introduces Hadoop and demonstrates how to perform a simple\n",
      "map/reduce processing task by using Hadoop streaming.\n",
      "\n",
      "### Topic 3: [Introduction to Cloud Computing][3]\n",
      "\n",
      "This Notebook presents how to use he Google Compute Engine to run a\n",
      "virtual machine that will remotely host our course Docker IPython\n",
      "Notebook server.\n",
      "\n",
      "-----\n",
      "\n",
      "## Optional Topics\n",
      "\n",
      "### Topic 4: [Python High Performance Computing][4]\n",
      "\n",
      "-----\n",
      "\n",
      "[1]: preface.ipynb\n",
      "[2]: intro2dh.ipynb\n",
      "[3]: intro2gc.ipynb\n",
      "[4]: pyhpc.ipynb"
     ]
    }
   ],
   "metadata": {}
  }
 ]
}