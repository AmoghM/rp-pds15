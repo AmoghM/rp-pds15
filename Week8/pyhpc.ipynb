{
 "metadata": {
  "name": "",
  "signature": "sha256:14f3f69790dcded05520e6efec3ba771f750779fd7f1848beec8ecc73aba4266"
 },
 "nbformat": 3,
 "nbformat_minor": 0,
 "worksheets": [
  {
   "cells": [
    {
     "cell_type": "markdown",
     "metadata": {},
     "source": [
      "<DIV ALIGN=CENTER>\n",
      "\n",
      "# Python HPC\n",
      "## Professor Robert J. Brunner\n",
      "  \n",
      "</DIV>  \n",
      "-----\n",
      "-----"
     ]
    },
    {
     "cell_type": "markdown",
     "metadata": {},
     "source": [
      "## Introduction\n",
      "\n",
      "Explore high performance Python computing.\n",
      "\n",
      "Python and threading\n",
      "Python and Multiprocess\n",
      "python and MPI\n",
      "\n",
      "mention Python and other standards openCL, openMP, Cuda, openACC.\n",
      "Introduce Python performance tricks\n",
      "wakari, numba, cython\n",
      "\n",
      "-----"
     ]
    },
    {
     "cell_type": "markdown",
     "metadata": {},
     "source": [
      "## Breakout Session: Python HPC\n",
      "\n",
      "During this session, you should first try out as many examples in this\n",
      "Notebook as you can.\n",
      "\n",
      "### Intermediate Challenge:\n",
      "\n",
      "Simple MPI example\n",
      "\n",
      "### Advanced Challenge:\n",
      "\n",
      "cython or numba\n",
      "\n",
      "-----\n",
      "\n"
     ]
    },
    {
     "cell_type": "markdown",
     "metadata": {},
     "source": [
      "### Additional References\n",
      "\n",
      "-----"
     ]
    },
    {
     "cell_type": "markdown",
     "metadata": {},
     "source": [
      "### Return to the [Week 8 Index](index.ipynb).\n",
      "\n",
      "-----"
     ]
    }
   ],
   "metadata": {}
  }
 ]
}