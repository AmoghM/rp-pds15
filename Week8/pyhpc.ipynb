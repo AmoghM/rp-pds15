{
 "metadata": {
  "name": "",
  "signature": "sha256:2a69d379b0d7ca955bd72e4a129ddf96de9adca36271d1e1d390fa478b5cf95b"
 },
 "nbformat": 3,
 "nbformat_minor": 0,
 "worksheets": [
  {
   "cells": [
    {
     "cell_type": "markdown",
     "metadata": {},
     "source": [
      "<DIV ALIGN=CENTER>\n",
      "\n",
      "# Python HPC\n",
      "## Professor Robert J. Brunner\n",
      "  \n",
      "</DIV>  \n",
      "-----\n",
      "-----"
     ]
    },
    {
     "cell_type": "markdown",
     "metadata": {},
     "source": [
      "## Introduction\n",
      "\n",
      "Explore high performance Python computing.\n",
      "\n",
      "python and MPI\n",
      "python and other standards openCL, openMP, Cuda, openACC.\n",
      "Python performance tricks\n",
      "wakari, numba, cython\n",
      "\n",
      "-----"
     ]
    },
    {
     "cell_type": "markdown",
     "metadata": {},
     "source": [
      "## Breakout Session: Python HPC\n",
      "\n",
      "During this session, you should first try out as many examples in this\n",
      "Notebook as you can.\n",
      "\n",
      "### Intermediate Challenge:\n",
      "\n",
      "Simple MPI example\n",
      "\n",
      "### Advanced Challenge:\n",
      "\n",
      "cython or numba\n",
      "\n",
      "-----\n",
      "\n"
     ]
    },
    {
     "cell_type": "markdown",
     "metadata": {},
     "source": [
      "### Additional References\n",
      "\n",
      "-----"
     ]
    },
    {
     "cell_type": "markdown",
     "metadata": {},
     "source": [
      "### Return to the [Week 8 Index](index.ipynb).\n",
      "\n",
      "-----"
     ]
    }
   ],
   "metadata": {}
  }
 ]
}