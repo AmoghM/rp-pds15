{
 "metadata": {
  "name": "",
  "signature": "sha256:9a6a60703870b1f12fe5de1e2fca531fab677cdab0f89ff6269c65a684ee5d03"
 },
 "nbformat": 3,
 "nbformat_minor": 0,
 "worksheets": [
  {
   "cells": [
    {
     "cell_type": "markdown",
     "metadata": {},
     "source": [
      "\n",
      "<DIV ALIGN=CENTER>\n",
      "\n",
      "# Practical Data Science  \n",
      "## University of Illinois, Research Park  \n",
      "## Robert J. Brunner  \n",
      "## Spring 2015  \n",
      "  \n",
      "</DIV>  \n",
      "-----\n",
      "-----"
     ]
    },
    {
     "cell_type": "markdown",
     "metadata": {},
     "source": [
      "## Week 2: Practical Data Science at the Command Line\n",
      " \n",
      "Use the Docker technology by working at the Unix command prompt within\n",
      "the course Docker container in interactive mode. This will focus on\n",
      "using Unix command line tools and techniques to work with data in the\n",
      "BASH shell\n",
      "\n",
      "### Topic 1: [Introduction to Unix][1]\n",
      "\n",
      "Learn about the Unix operating system, the Bash shell, and the basics of\n",
      "the Unix filesystem and process model.\n",
      "\n",
      "### Topic 2: [Unix Networking][2]\n",
      "\n",
      "Learn about basic Unix networking commands, including how to grab\n",
      "internet accesible resources.\n",
      "\n",
      "### Topic 3: [Unix Data Processing][3]\n",
      "\n",
      "Learn how to use Unix commands to perform basic data processing,\n",
      "including selection, modification, or transformation of specific data\n",
      "from an existing file.\n",
      "\n",
      "-----\n",
      "\n",
      "## Optional Topics\n",
      "\n",
      "### Topic 4: Shell Scripting\n",
      "\n",
      "- Linux based [Bash tutorial](http://linuxconfig.org/bash-scripting-tutorial)\n",
      "- General [Bash tutorial](http://www.hypexr.org/bash_tutorial.php)\n",
      "\n",
      "-----\n",
      "\n",
      "[1]: introduction2Unix.ipynb\n",
      "[2]: unixnetwork.ipynb\n",
      "[3]: unixdp.ipynb\n",
      "[4]: intro2ipy.ipynb\n",
      "\n"
     ]
    }
   ],
   "metadata": {}
  }
 ]
}